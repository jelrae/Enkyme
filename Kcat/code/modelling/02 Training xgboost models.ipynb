{
 "cells": [
  {
   "cell_type": "code",
   "metadata": {
    "ExecuteTime": {
     "end_time": "2025-02-12T09:08:21.041693Z",
     "start_time": "2025-02-12T09:08:21.029098Z"
    }
   },
   "source": [
    "import numpy as np\n",
    "import pickle\n",
    "import pandas as pd\n",
    "from os.path import join\n",
    "import warnings\n",
    "warnings.filterwarnings(\"ignore\")\n",
    "from sklearn.metrics import r2_score\n",
    "from scipy import stats\n",
    "import xgboost as xgb\n",
    "from hyperopt import fmin, rand, hp, Trials, tpe\n",
    "from plotnine import *\n",
    "import shap\n",
    "rstate = np.random.default_rng(42)\n",
    "\n",
    "import matplotlib.pyplot as plt\n",
    "from matplotlib.pyplot import figure\n",
    "import matplotlib as mpl\n",
    "\n",
    "datasets_dir = \"../../data\"\n",
    "results_dir = \"../../results\""
   ],
   "outputs": [],
   "execution_count": 3
  },
  {
   "cell_type": "markdown",
   "metadata": {},
   "source": [
    "## Loading training and test data:"
   ]
  },
  {
   "cell_type": "code",
   "metadata": {
    "ExecuteTime": {
     "end_time": "2025-02-12T09:27:47.495429Z",
     "start_time": "2025-02-12T09:27:47.463391Z"
    }
   },
   "source": [
    "split = \"secondary\"\n",
    "\n",
    "data_train = pd.read_pickle(join(datasets_dir, \"splits\", split, \"training_data.pkl\"))\n",
    "data_test = pd.read_pickle(join(datasets_dir, \"splits\", split, \"test_data.pkl\"))\n",
    "data_val = pd.read_pickle(join(datasets_dir, \"splits\", split, \"val_data.pkl\"))\n",
    "\n",
    "data_train[\"log10_kcat\"] = np.log10(data_train[\"kcat\"])\n",
    "data_test[\"log10_kcat\"] = np.log10(data_test[\"kcat\"])\n",
    "data_val[\"log10_kcat\"] = np.log10(data_val[\"kcat\"])\n",
    "\n",
    "data_train.rename(columns = {\"Enzyme rep\" : \"ESM2\"}, inplace = True)\n",
    "data_test.rename(columns = {\"Enzyme rep\" : \"ESM2\"}, inplace = True)\n",
    "data_val.rename(columns = {\"Enzyme rep\" : \"ESM2\"}, inplace = True)\n",
    "\n",
    "data_train['Temperature'] = data_train['Temperature'].replace('-', np.nan)\n",
    "data_test['Temperature'] = data_test['Temperature'].replace('-', np.nan)\n",
    "data_val['Temperature'] = data_val['Temperature'].replace('-', np.nan)\n",
    "data_train['pH'] = data_train['pH'].replace('-', np.nan)\n",
    "data_test['pH'] = data_test['pH'].replace('-', np.nan)\n",
    "data_val['pH'] = data_val['pH'].replace('-', np.nan)\n",
    "data_train['Type'] = data_train['Type'].replace('wildtype', 1)\n",
    "data_train['Type'] = data_train['Type'].replace('mutant', 2)\n",
    "data_test['Type'] = data_test['Type'].replace('wildtype', 1)\n",
    "data_test['Type'] = data_test['Type'].replace('mutant', 2)\n",
    "data_val['Type'] = data_val['Type'].replace('wildtype', 1)\n",
    "data_val['Type'] = data_val['Type'].replace('mutant', 2)\n",
    "\n",
    "data_train['MACCS FP'] = data_train['MACCS FP'].astype(str)\n",
    "data_test['MACCS FP'] = data_test['MACCS FP'].astype(str)\n",
    "data_val['MACCS FP'] = data_val['MACCS FP'].astype(str)\n",
    "\n",
    "len(data_train), len(data_test), len(data_val)"
   ],
   "outputs": [
    {
     "name": "stdout",
     "output_type": "stream",
     "text": [
      "(105, 29)\n"
     ]
    },
    {
     "data": {
      "text/plain": [
       "(105, 36, 7)"
      ]
     },
     "execution_count": 52,
     "metadata": {},
     "output_type": "execute_result"
    }
   ],
   "execution_count": 52
  },
  {
   "cell_type": "code",
   "metadata": {
    "ExecuteTime": {
     "end_time": "2025-02-12T09:08:21.152293Z",
     "start_time": "2025-02-12T09:08:21.137403Z"
    }
   },
   "source": [
    "train_indices = list(np.load(join(datasets_dir, \"splits\", split, \"CV_train_indices_Seed plants.npy\"), allow_pickle = True))\n",
    "test_indices = list(np.load(join(datasets_dir, \"splits\", split, \"CV_test_indices_Seed plants.npy\"), allow_pickle = True))"
   ],
   "outputs": [],
   "execution_count": 5
  },
  {
   "cell_type": "code",
   "metadata": {
    "ExecuteTime": {
     "end_time": "2025-02-12T09:08:21.215668Z",
     "start_time": "2025-02-12T09:08:21.201131Z"
    }
   },
   "source": [
    "data_test = data_test[~data_test['GNN FP'].isnull()]\n",
    "\n",
    "nan_rows = data_train[data_train['GNN FP'].apply(lambda x: not isinstance(x, np.ndarray))]\n",
    "\n",
    "indices_with_nan = nan_rows.index.tolist()\n",
    "print(indices_with_nan)\n",
    "\n",
    "for ind, sub_list in enumerate(train_indices):\n",
    "    for elem in sub_list:\n",
    "        if elem in indices_with_nan:\n",
    "            sub_list.remove(elem)\n",
    "\n",
    "for ind, sub_list in enumerate(train_indices):\n",
    "    for num in indices_with_nan:\n",
    "        for i, elem in enumerate(sub_list):\n",
    "            if elem > num:\n",
    "                train_indices[ind][i] = elem-1\n",
    "\n",
    "for ind, sub_list in enumerate(test_indices):\n",
    "    for elem in sub_list:\n",
    "        if elem in indices_with_nan:\n",
    "            sub_list.remove(elem)\n",
    "\n",
    "for ind, sub_list in enumerate(test_indices):\n",
    "    for num in indices_with_nan:\n",
    "        for i, elem in enumerate(sub_list):\n",
    "            if elem > num:\n",
    "                test_indices[ind][i] = elem-1  \n",
    "\n",
    "\n",
    "data_train = data_train[data_train['GNN FP'].apply(lambda x: isinstance(x, np.ndarray))]\n",
    "data_train.reset_index(inplace=True, drop=True)"
   ],
   "outputs": [
    {
     "name": "stdout",
     "output_type": "stream",
     "text": [
      "[]\n"
     ]
    }
   ],
   "execution_count": 6
  },
  {
   "cell_type": "code",
   "metadata": {
    "ExecuteTime": {
     "end_time": "2025-02-12T09:08:21.278065Z",
     "start_time": "2025-02-12T09:08:21.248730Z"
    }
   },
   "source": [
    "data_combined = pd.concat([data_train,data_test])\n",
    "data_combined.describe()"
   ],
   "outputs": [
    {
     "data": {
      "text/plain": [
       "               PMID        Type        kcat  max_kcat_for_UID     MW_frac  \\\n",
       "count  1.410000e+02  141.000000  141.000000        141.000000  141.000000   \n",
       "mean   1.591142e+07    1.120567   12.208697         18.470882    1.071313   \n",
       "std    5.066594e+06    0.326785   59.232340         66.858752    0.211246   \n",
       "min    7.876084e+06    1.000000    0.001667          0.001667    0.938065   \n",
       "25%    1.195998e+07    1.000000    0.061167          0.085667    1.000000   \n",
       "50%    1.474501e+07    1.000000    0.940000          2.250000    1.000597   \n",
       "75%    1.714128e+07    1.000000    3.866667         10.200000    1.001091   \n",
       "max    2.973264e+07    2.000000  590.000000        590.000000    1.773738   \n",
       "\n",
       "       max_kcat_for_RID  max_kcat_for_EC  frac_of_max_UID  frac_of_max_RID  \\\n",
       "count        141.000000       141.000000       141.000000       141.000000   \n",
       "mean          26.742490        35.084351         0.661838         0.570427   \n",
       "std           68.586595        75.291376         0.371245         0.418368   \n",
       "min            0.004600         0.016100         0.015544         0.010497   \n",
       "25%            0.100000         0.260000         0.353846         0.107962   \n",
       "50%            2.743333        10.200000         0.839532         0.683230   \n",
       "75%           21.323330        40.568330         1.000000         1.000000   \n",
       "max          590.000000       590.000000         1.000000         1.000000   \n",
       "\n",
       "       frac_of_max_EC  log10_kcat  \n",
       "count      141.000000  141.000000  \n",
       "mean         0.347082   -0.236791  \n",
       "std          0.373940    1.186609  \n",
       "min          0.010183   -2.778151  \n",
       "25%          0.037634   -1.213485  \n",
       "50%          0.147857   -0.026872  \n",
       "75%          0.651961    0.587337  \n",
       "max          1.000000    2.770852  "
      ],
      "text/html": [
       "<div>\n",
       "<style scoped>\n",
       "    .dataframe tbody tr th:only-of-type {\n",
       "        vertical-align: middle;\n",
       "    }\n",
       "\n",
       "    .dataframe tbody tr th {\n",
       "        vertical-align: top;\n",
       "    }\n",
       "\n",
       "    .dataframe thead th {\n",
       "        text-align: right;\n",
       "    }\n",
       "</style>\n",
       "<table border=\"1\" class=\"dataframe\">\n",
       "  <thead>\n",
       "    <tr style=\"text-align: right;\">\n",
       "      <th></th>\n",
       "      <th>PMID</th>\n",
       "      <th>Type</th>\n",
       "      <th>kcat</th>\n",
       "      <th>max_kcat_for_UID</th>\n",
       "      <th>MW_frac</th>\n",
       "      <th>max_kcat_for_RID</th>\n",
       "      <th>max_kcat_for_EC</th>\n",
       "      <th>frac_of_max_UID</th>\n",
       "      <th>frac_of_max_RID</th>\n",
       "      <th>frac_of_max_EC</th>\n",
       "      <th>log10_kcat</th>\n",
       "    </tr>\n",
       "  </thead>\n",
       "  <tbody>\n",
       "    <tr>\n",
       "      <th>count</th>\n",
       "      <td>1.410000e+02</td>\n",
       "      <td>141.000000</td>\n",
       "      <td>141.000000</td>\n",
       "      <td>141.000000</td>\n",
       "      <td>141.000000</td>\n",
       "      <td>141.000000</td>\n",
       "      <td>141.000000</td>\n",
       "      <td>141.000000</td>\n",
       "      <td>141.000000</td>\n",
       "      <td>141.000000</td>\n",
       "      <td>141.000000</td>\n",
       "    </tr>\n",
       "    <tr>\n",
       "      <th>mean</th>\n",
       "      <td>1.591142e+07</td>\n",
       "      <td>1.120567</td>\n",
       "      <td>12.208697</td>\n",
       "      <td>18.470882</td>\n",
       "      <td>1.071313</td>\n",
       "      <td>26.742490</td>\n",
       "      <td>35.084351</td>\n",
       "      <td>0.661838</td>\n",
       "      <td>0.570427</td>\n",
       "      <td>0.347082</td>\n",
       "      <td>-0.236791</td>\n",
       "    </tr>\n",
       "    <tr>\n",
       "      <th>std</th>\n",
       "      <td>5.066594e+06</td>\n",
       "      <td>0.326785</td>\n",
       "      <td>59.232340</td>\n",
       "      <td>66.858752</td>\n",
       "      <td>0.211246</td>\n",
       "      <td>68.586595</td>\n",
       "      <td>75.291376</td>\n",
       "      <td>0.371245</td>\n",
       "      <td>0.418368</td>\n",
       "      <td>0.373940</td>\n",
       "      <td>1.186609</td>\n",
       "    </tr>\n",
       "    <tr>\n",
       "      <th>min</th>\n",
       "      <td>7.876084e+06</td>\n",
       "      <td>1.000000</td>\n",
       "      <td>0.001667</td>\n",
       "      <td>0.001667</td>\n",
       "      <td>0.938065</td>\n",
       "      <td>0.004600</td>\n",
       "      <td>0.016100</td>\n",
       "      <td>0.015544</td>\n",
       "      <td>0.010497</td>\n",
       "      <td>0.010183</td>\n",
       "      <td>-2.778151</td>\n",
       "    </tr>\n",
       "    <tr>\n",
       "      <th>25%</th>\n",
       "      <td>1.195998e+07</td>\n",
       "      <td>1.000000</td>\n",
       "      <td>0.061167</td>\n",
       "      <td>0.085667</td>\n",
       "      <td>1.000000</td>\n",
       "      <td>0.100000</td>\n",
       "      <td>0.260000</td>\n",
       "      <td>0.353846</td>\n",
       "      <td>0.107962</td>\n",
       "      <td>0.037634</td>\n",
       "      <td>-1.213485</td>\n",
       "    </tr>\n",
       "    <tr>\n",
       "      <th>50%</th>\n",
       "      <td>1.474501e+07</td>\n",
       "      <td>1.000000</td>\n",
       "      <td>0.940000</td>\n",
       "      <td>2.250000</td>\n",
       "      <td>1.000597</td>\n",
       "      <td>2.743333</td>\n",
       "      <td>10.200000</td>\n",
       "      <td>0.839532</td>\n",
       "      <td>0.683230</td>\n",
       "      <td>0.147857</td>\n",
       "      <td>-0.026872</td>\n",
       "    </tr>\n",
       "    <tr>\n",
       "      <th>75%</th>\n",
       "      <td>1.714128e+07</td>\n",
       "      <td>1.000000</td>\n",
       "      <td>3.866667</td>\n",
       "      <td>10.200000</td>\n",
       "      <td>1.001091</td>\n",
       "      <td>21.323330</td>\n",
       "      <td>40.568330</td>\n",
       "      <td>1.000000</td>\n",
       "      <td>1.000000</td>\n",
       "      <td>0.651961</td>\n",
       "      <td>0.587337</td>\n",
       "    </tr>\n",
       "    <tr>\n",
       "      <th>max</th>\n",
       "      <td>2.973264e+07</td>\n",
       "      <td>2.000000</td>\n",
       "      <td>590.000000</td>\n",
       "      <td>590.000000</td>\n",
       "      <td>1.773738</td>\n",
       "      <td>590.000000</td>\n",
       "      <td>590.000000</td>\n",
       "      <td>1.000000</td>\n",
       "      <td>1.000000</td>\n",
       "      <td>1.000000</td>\n",
       "      <td>2.770852</td>\n",
       "    </tr>\n",
       "  </tbody>\n",
       "</table>\n",
       "</div>"
      ]
     },
     "execution_count": 7,
     "metadata": {},
     "output_type": "execute_result"
    }
   ],
   "execution_count": 7
  },
  {
   "cell_type": "code",
   "metadata": {
    "ExecuteTime": {
     "end_time": "2025-02-12T09:08:21.356391Z",
     "start_time": "2025-02-12T09:08:21.326326Z"
    }
   },
   "source": [
    "data_val.describe()"
   ],
   "outputs": [
    {
     "data": {
      "text/plain": [
       "               PMID  Type       kcat  max_kcat_for_UID   MW_frac  \\\n",
       "count  7.000000e+00   7.0   7.000000          7.000000  7.000000   \n",
       "mean   1.538038e+07   1.0   3.258095          3.936667  0.997652   \n",
       "std    3.414882e+06   0.0   4.641071          5.564498  0.004315   \n",
       "min    1.115853e+07   1.0   0.075000          0.113333  0.993501   \n",
       "25%    1.336737e+07   1.0   0.107500          0.113333  0.993501   \n",
       "50%    1.518100e+07   1.0   0.883333          0.883333  0.997329   \n",
       "75%    1.744234e+07   1.0   4.816667          7.166666  1.001433   \n",
       "max    1.970369e+07   1.0  12.000000         12.000000  1.002867   \n",
       "\n",
       "       max_kcat_for_RID  max_kcat_for_EC  frac_of_max_UID  frac_of_max_RID  \\\n",
       "count          7.000000         7.000000         7.000000         7.000000   \n",
       "mean          40.986667        91.965238         0.881023         0.604173   \n",
       "std           87.575101       157.015004         0.172874         0.387255   \n",
       "min            0.113333         0.113333         0.608333         0.030945   \n",
       "25%            0.113333         0.113333         0.779412         0.319721   \n",
       "50%            2.333333         0.883333         1.000000         0.661765   \n",
       "75%           24.166667       144.666666         1.000000         0.948530   \n",
       "max          235.900000       353.200000         1.000000         1.000000   \n",
       "\n",
       "       frac_of_max_EC  log10_kcat  \n",
       "count        7.000000    7.000000  \n",
       "mean         0.660186   -0.115257  \n",
       "std          0.446076    0.922018  \n",
       "min          0.020668   -1.124939  \n",
       "25%          0.351788   -0.969232  \n",
       "50%          0.897059   -0.053875  \n",
       "75%          1.000000    0.615650  \n",
       "max          1.000000    1.079181  "
      ],
      "text/html": [
       "<div>\n",
       "<style scoped>\n",
       "    .dataframe tbody tr th:only-of-type {\n",
       "        vertical-align: middle;\n",
       "    }\n",
       "\n",
       "    .dataframe tbody tr th {\n",
       "        vertical-align: top;\n",
       "    }\n",
       "\n",
       "    .dataframe thead th {\n",
       "        text-align: right;\n",
       "    }\n",
       "</style>\n",
       "<table border=\"1\" class=\"dataframe\">\n",
       "  <thead>\n",
       "    <tr style=\"text-align: right;\">\n",
       "      <th></th>\n",
       "      <th>PMID</th>\n",
       "      <th>Type</th>\n",
       "      <th>kcat</th>\n",
       "      <th>max_kcat_for_UID</th>\n",
       "      <th>MW_frac</th>\n",
       "      <th>max_kcat_for_RID</th>\n",
       "      <th>max_kcat_for_EC</th>\n",
       "      <th>frac_of_max_UID</th>\n",
       "      <th>frac_of_max_RID</th>\n",
       "      <th>frac_of_max_EC</th>\n",
       "      <th>log10_kcat</th>\n",
       "    </tr>\n",
       "  </thead>\n",
       "  <tbody>\n",
       "    <tr>\n",
       "      <th>count</th>\n",
       "      <td>7.000000e+00</td>\n",
       "      <td>7.0</td>\n",
       "      <td>7.000000</td>\n",
       "      <td>7.000000</td>\n",
       "      <td>7.000000</td>\n",
       "      <td>7.000000</td>\n",
       "      <td>7.000000</td>\n",
       "      <td>7.000000</td>\n",
       "      <td>7.000000</td>\n",
       "      <td>7.000000</td>\n",
       "      <td>7.000000</td>\n",
       "    </tr>\n",
       "    <tr>\n",
       "      <th>mean</th>\n",
       "      <td>1.538038e+07</td>\n",
       "      <td>1.0</td>\n",
       "      <td>3.258095</td>\n",
       "      <td>3.936667</td>\n",
       "      <td>0.997652</td>\n",
       "      <td>40.986667</td>\n",
       "      <td>91.965238</td>\n",
       "      <td>0.881023</td>\n",
       "      <td>0.604173</td>\n",
       "      <td>0.660186</td>\n",
       "      <td>-0.115257</td>\n",
       "    </tr>\n",
       "    <tr>\n",
       "      <th>std</th>\n",
       "      <td>3.414882e+06</td>\n",
       "      <td>0.0</td>\n",
       "      <td>4.641071</td>\n",
       "      <td>5.564498</td>\n",
       "      <td>0.004315</td>\n",
       "      <td>87.575101</td>\n",
       "      <td>157.015004</td>\n",
       "      <td>0.172874</td>\n",
       "      <td>0.387255</td>\n",
       "      <td>0.446076</td>\n",
       "      <td>0.922018</td>\n",
       "    </tr>\n",
       "    <tr>\n",
       "      <th>min</th>\n",
       "      <td>1.115853e+07</td>\n",
       "      <td>1.0</td>\n",
       "      <td>0.075000</td>\n",
       "      <td>0.113333</td>\n",
       "      <td>0.993501</td>\n",
       "      <td>0.113333</td>\n",
       "      <td>0.113333</td>\n",
       "      <td>0.608333</td>\n",
       "      <td>0.030945</td>\n",
       "      <td>0.020668</td>\n",
       "      <td>-1.124939</td>\n",
       "    </tr>\n",
       "    <tr>\n",
       "      <th>25%</th>\n",
       "      <td>1.336737e+07</td>\n",
       "      <td>1.0</td>\n",
       "      <td>0.107500</td>\n",
       "      <td>0.113333</td>\n",
       "      <td>0.993501</td>\n",
       "      <td>0.113333</td>\n",
       "      <td>0.113333</td>\n",
       "      <td>0.779412</td>\n",
       "      <td>0.319721</td>\n",
       "      <td>0.351788</td>\n",
       "      <td>-0.969232</td>\n",
       "    </tr>\n",
       "    <tr>\n",
       "      <th>50%</th>\n",
       "      <td>1.518100e+07</td>\n",
       "      <td>1.0</td>\n",
       "      <td>0.883333</td>\n",
       "      <td>0.883333</td>\n",
       "      <td>0.997329</td>\n",
       "      <td>2.333333</td>\n",
       "      <td>0.883333</td>\n",
       "      <td>1.000000</td>\n",
       "      <td>0.661765</td>\n",
       "      <td>0.897059</td>\n",
       "      <td>-0.053875</td>\n",
       "    </tr>\n",
       "    <tr>\n",
       "      <th>75%</th>\n",
       "      <td>1.744234e+07</td>\n",
       "      <td>1.0</td>\n",
       "      <td>4.816667</td>\n",
       "      <td>7.166666</td>\n",
       "      <td>1.001433</td>\n",
       "      <td>24.166667</td>\n",
       "      <td>144.666666</td>\n",
       "      <td>1.000000</td>\n",
       "      <td>0.948530</td>\n",
       "      <td>1.000000</td>\n",
       "      <td>0.615650</td>\n",
       "    </tr>\n",
       "    <tr>\n",
       "      <th>max</th>\n",
       "      <td>1.970369e+07</td>\n",
       "      <td>1.0</td>\n",
       "      <td>12.000000</td>\n",
       "      <td>12.000000</td>\n",
       "      <td>1.002867</td>\n",
       "      <td>235.900000</td>\n",
       "      <td>353.200000</td>\n",
       "      <td>1.000000</td>\n",
       "      <td>1.000000</td>\n",
       "      <td>1.000000</td>\n",
       "      <td>1.079181</td>\n",
       "    </tr>\n",
       "  </tbody>\n",
       "</table>\n",
       "</div>"
      ]
     },
     "execution_count": 8,
     "metadata": {},
     "output_type": "execute_result"
    }
   ],
   "execution_count": 8
  },
  {
   "cell_type": "markdown",
   "metadata": {},
   "source": [
    "## 1. Training a model with enzyme and substrate information (ESM-2/GNN) + Temperature + pH:"
   ]
  },
  {
   "cell_type": "markdown",
   "metadata": {},
   "source": [
    "#### (a) Creating input matrices:"
   ]
  },
  {
   "cell_type": "code",
   "metadata": {
    "ExecuteTime": {
     "end_time": "2025-02-12T09:08:21.560688Z",
     "start_time": "2025-02-12T09:08:21.405508Z"
    }
   },
   "source": [
    "train_X = np.array(list(data_train[\"ESM2\"]))\n",
    "train_X = np.concatenate([train_X, np.array(list(data_train[\"GNN FP\"])), np.array(list(data_train[\"Temperature\"]))[:, np.newaxis], np.array(list(data_train[\"pH\"]))[:, np.newaxis]], axis = 1)\n",
    "train_Y = np.array(list(data_train[\"log10_kcat\"]))\n",
    "\n",
    "test_X = np.array(list(data_test[\"ESM2\"]))\n",
    "test_X = np.concatenate([test_X, np.array(list(data_test[\"GNN FP\"])), np.array(list(data_test[\"Temperature\"]))[:, np.newaxis], np.array(list(data_test[\"pH\"]))[:, np.newaxis]], axis = 1)\n",
    "test_Y = np.array(list(data_test[\"log10_kcat\"]))\n",
    "\n",
    "train_X = train_X.astype(float)\n",
    "test_X = test_X.astype(float)"
   ],
   "outputs": [],
   "execution_count": 9
  },
  {
   "cell_type": "markdown",
   "metadata": {},
   "source": [
    "#### (b) Hyperparameter optimization:"
   ]
  },
  {
   "cell_type": "code",
   "metadata": {
    "ExecuteTime": {
     "end_time": "2025-02-12T09:08:21.653866Z",
     "start_time": "2025-02-12T09:08:21.645783Z"
    }
   },
   "source": [
    "# def cross_validation_mse_gradient_boosting(param):\n",
    "#     num_round = param[\"num_rounds\"]\n",
    "#     del param[\"num_rounds\"]\n",
    "#     param[\"max_depth\"] = int(np.round(param[\"max_depth\"]))\n",
    "#     # param[\"device\"] = \"cuda\"\n",
    "#     param[\"tree_method\"] = \"gpu_hist\"\n",
    "#     param[\"sampling_method\"] = \"gradient_based\"\n",
    "    \n",
    "#     MSE = []\n",
    "#     R2 = []\n",
    "#     for i in range(5):\n",
    "#         train_index, test_index  = train_indices[i], test_indices[i]\n",
    "#         dtrain = xgb.DMatrix(train_X[train_index], label = train_Y[train_index])\n",
    "#         dvalid = xgb.DMatrix(train_X[test_index])\n",
    "#         bst = xgb.train(param, dtrain, int(num_round), verbose_eval=False)\n",
    "#         y_valid_pred = bst.predict(dvalid)\n",
    "#         MSE.append(np.mean(abs(np.reshape(train_Y[test_index], (-1)) - y_valid_pred)**2))\n",
    "#         R2.append(r2_score(np.reshape(train_Y[test_index], (-1)),  y_valid_pred))\n",
    "#     return(-np.mean(R2))\n",
    "\n",
    "# space_gradient_boosting = {\n",
    "#     \"learning_rate\": hp.choice(\"learning_rate\", [0.01,0.1,0.2]),\n",
    "#     \"max_depth\": hp.quniform(\"max_depth\", 3, 10, 1),\n",
    "#     # \"subsample\": hp.quniform(\"subsample\", 0.5, 1, 0.5),\n",
    "#     \"reg_lambda\": hp.quniform(\"reg_lambda\", 0, 1, 0.2),\n",
    "#     \"reg_alpha\": hp.quniform(\"reg_alpha\", 0, 1, 0.2),\n",
    "#     \"max_delta_step\": hp.quniform(\"max_delta_step\", 1, 5, 1),\n",
    "#     \"min_child_weight\": hp.quniform(\"min_child_weight\", 1, 6, 1),\n",
    "#     \"num_rounds\":  hp.choice(\"num_rounds\", [100,250,500,1000])\n",
    "#     }\n",
    "\n",
    "# rstate = np.random.default_rng(42)\n",
    "# trials = Trials()\n",
    "# best = fmin(fn = cross_validation_mse_gradient_boosting, space = space_gradient_boosting,\n",
    "#             algo=rand.suggest, max_evals = 20, trials=trials, return_argmin=False, rstate=rstate)\n",
    "\n",
    "# print(best)\n",
    "# param = best\n",
    "# param[\"random_state\"] = 42"
   ],
   "outputs": [],
   "execution_count": 10
  },
  {
   "cell_type": "code",
   "metadata": {
    "ExecuteTime": {
     "end_time": "2025-02-12T09:08:21.793657Z",
     "start_time": "2025-02-12T09:08:21.780044Z"
    }
   },
   "source": [
    "if split == \"full\":\n",
    "    param = {\"random_state\": 42, 'learning_rate': 0.1, 'max_delta_step': 2.0, 'max_depth': 4.0, 'min_child_weight': 6.0, 'num_rounds': 1000, 'reg_alpha': 0.2, 'reg_lambda': 0.4}\n",
    "elif split == \"Arabidopsis\":\n",
    "    param = {\"random_state\": 42, 'learning_rate': 0.1, 'max_delta_step': 3.0, 'max_depth': 4.0, 'min_child_weight': 5.0, 'num_rounds': 500, 'reg_alpha': 0.2, 'reg_lambda': 0.4}\n",
    "# elif split == \"Brassicaceae\":\n",
    "#     param = {\"random_state\": 42, 'learning_rate': 0.1, 'max_delta_step': 1.0, 'max_depth': 3.0, 'min_child_weight': 5.0, 'num_rounds': 1000.0, 'reg_alpha': 0.4, 'reg_lambda': 0.4}\n",
    "elif split == \"wildtype\":\n",
    "    param = {\"random_state\": 42, 'learning_rate': 0.1, 'max_delta_step': 3.0, 'max_depth': 4.0, 'min_child_weight': 5.0, 'num_rounds': 500, 'reg_alpha': 0.2, 'reg_lambda': 0.4}\n",
    "else:\n",
    "    param = {\"random_state\": 42, 'learning_rate': 0.2, 'max_delta_step': 1.0, 'max_depth': 8.0, 'min_child_weight': 4.0, 'num_rounds': 250, 'reg_alpha': 0.6, 'reg_lambda': 0.8}\n"
   ],
   "outputs": [],
   "execution_count": 11
  },
  {
   "cell_type": "markdown",
   "metadata": {},
   "source": [
    "#### (c) Training and validating model:"
   ]
  },
  {
   "cell_type": "code",
   "metadata": {
    "ExecuteTime": {
     "end_time": "2025-02-12T09:08:21.903833Z",
     "start_time": "2025-02-12T09:08:21.890328Z"
    }
   },
   "source": [
    "num_round = param[\"num_rounds\"]\n",
    "param[\"max_depth\"] = int(np.round(param[\"max_depth\"]))\n",
    "param[\"tree_method\"] = \"gpu_hist\"\n",
    "param[\"sampling_method\"] = \"gradient_based\"\n",
    "del param[\"num_rounds\"]"
   ],
   "outputs": [],
   "execution_count": 12
  },
  {
   "cell_type": "code",
   "metadata": {
    "ExecuteTime": {
     "end_time": "2025-02-12T09:09:21.685094Z",
     "start_time": "2025-02-12T09:08:21.998416Z"
    }
   },
   "source": [
    "R2 = []\n",
    "MSE = []\n",
    "Pearson = []\n",
    "MAE = []\n",
    "MedAE = []\n",
    "\n",
    "for i in range(5):\n",
    "    train_index, test_index  = train_indices[i], test_indices[i]\n",
    "    dtrain = xgb.DMatrix(train_X[train_index], label = train_Y[train_index])\n",
    "    dvalid = xgb.DMatrix(train_X[test_index])\n",
    "    \n",
    "    bst = xgb.train(param, dtrain, int(num_round), verbose_eval=False)\n",
    "    \n",
    "    y_valid_pred = bst.predict(dvalid)\n",
    "    MSE.append(np.sqrt(np.mean(abs(np.array([10**x for x in np.reshape(train_Y[test_index], (-1))]) - np.array([10**x for x in y_valid_pred]))**2)))\n",
    "    R2.append(r2_score([10**x for x in np.reshape(train_Y[test_index], (-1))], [10**x for x in y_valid_pred]))\n",
    "    Pearson.append(stats.pearsonr([10**x for x in np.reshape(train_Y[test_index], (-1))], [10**x for x in y_valid_pred])[0])\n",
    "    MAE.append(np.mean(abs(np.array([10**x for x in train_Y[test_index]]) - np.array([10**x for x in y_valid_pred]))))\n",
    "    MedAE.append(np.median(abs(np.array([10**x for x in train_Y[test_index]]) - np.array([10**x for x in y_valid_pred]))))\n",
    "\n",
    "print(Pearson)\n",
    "print(MSE)\n",
    "print(R2)\n",
    "print(MAE)\n",
    "print(MedAE)\n",
    "\n",
    "with open(join(results_dir, split, \"Pearson_CV_xgboost_ESM2_gnn_fp.npy\"), 'wb') as f:\n",
    "    np.save(f, np.array(Pearson))\n",
    "with open(join(results_dir, split, \"MSE_CV_xgboost_ESM2_gnn_fp.npy\"), 'wb') as f:\n",
    "    np.save(f, np.array(MSE))\n",
    "with open(join(results_dir, split, \"R2_CV_xgboost_ESM2_gnn_fp.npy\"), 'wb') as f:\n",
    "    np.save(f, np.array(R2))"
   ],
   "outputs": [
    {
     "name": "stdout",
     "output_type": "stream",
     "text": [
      "[0.23501390284259893, 0.6904973066021485, -0.07018226390367785, -0.2760023292936854, -0.06052168251952153]\n",
      "[3.9584923701919474, 13.297493166664964, 131.88502108850196, 29.456290746724875, 41.758638400927275]\n",
      "[-0.323717335085528, -0.9137354327247675, -0.05694548840217206, -0.1563188959331674, -0.06626015482685643]\n",
      "[2.8941198343669976, 9.846345316962646, 31.62598145900365, 11.964775582772178, 13.168707538564357]\n",
      "[1.7477389705561501, 9.722153999403071, 0.4839738256799869, 2.955686487765321, 1.1864068304507647]\n"
     ]
    }
   ],
   "execution_count": 13
  },
  {
   "cell_type": "code",
   "metadata": {
    "ExecuteTime": {
     "end_time": "2025-02-12T09:09:22.725005Z",
     "start_time": "2025-02-12T09:09:21.751209Z"
    }
   },
   "source": [
    "dtrain = xgb.DMatrix(train_X, label = train_Y)\n",
    "dtest = xgb.DMatrix(test_X)\n",
    "\n",
    "bst = xgb.train(param, dtrain, int(num_round), verbose_eval=False)\n",
    "\n",
    "y_test_pred = bst.predict(dtest)\n",
    "\n",
    "MSE_dif_fp_test = np.sqrt(np.mean(abs(np.array([10**x for x in test_Y]) - np.array([10**x for x in y_test_pred]))**2))\n",
    "R2_dif_fp_test = r2_score(np.array([10**x for x in np.reshape(test_Y, (-1))]), np.array([10**x for x in y_test_pred]))\n",
    "Pearson = stats.pearsonr(np.array([10**x for x in np.reshape(test_Y, (-1))]), np.array([10**x for x in y_test_pred]))\n",
    "MAE = np.mean(abs(np.array([10**x for x in test_Y]) - np.array([10**x for x in y_test_pred])))\n",
    "MedAE = np.median(abs(np.array([10**x for x in test_Y]) - np.array([10**x for x in y_test_pred])))\n",
    "\n",
    "print(np.round(Pearson[0],3) , np.round(MSE_dif_fp_test, 10), np.round(R2_dif_fp_test,3), np.round(MAE, 10), np.round(MedAE, 10))\n",
    "\n",
    "with open(join(results_dir, split, \"y_test_pred_xgboost_ESM2_gnn_fp.npy\"), 'wb') as f:\n",
    "    np.save(f, bst.predict(dtest))\n",
    "with open(join(results_dir, split, \"y_test_true_xgboost_ESM2_gnn_fp.npy\"), 'wb') as f:\n",
    "    np.save(f, test_Y)"
   ],
   "outputs": [
    {
     "name": "stdout",
     "output_type": "stream",
     "text": [
      "0.954 33.038913187 0.604 6.9854384884 0.0625312749\n"
     ]
    }
   ],
   "execution_count": 14
  },
  {
   "cell_type": "markdown",
   "metadata": {},
   "source": [
    "#### (d) Training model with test and train data for production mode:"
   ]
  },
  {
   "cell_type": "code",
   "metadata": {
    "ExecuteTime": {
     "end_time": "2025-02-12T09:09:22.981947Z",
     "start_time": "2025-02-12T09:09:22.803287Z"
    }
   },
   "source": [
    "train_X = np.array(list(data_train[\"ESM2\"]))\n",
    "train_X = np.concatenate([train_X, np.array(list(data_train[\"GNN FP\"])), np.array(list(data_train[\"Temperature\"]))[:, np.newaxis], np.array(list(data_train[\"pH\"]))[:, np.newaxis]], axis = 1)\n",
    "train_Y = np.array(list(data_train[\"log10_kcat\"]))\n",
    "\n",
    "test_X = np.array(list(data_test[\"ESM2\"]))\n",
    "test_X = np.concatenate([test_X, np.array(list(data_test[\"GNN FP\"])), np.array(list(data_test[\"Temperature\"]))[:, np.newaxis], np.array(list(data_test[\"pH\"]))[:, np.newaxis]], axis = 1)\n",
    "test_Y = np.array(list(data_test[\"log10_kcat\"]))\n",
    "\n",
    "train_X = np.concatenate([train_X, test_X])\n",
    "train_Y = np.concatenate([train_Y, test_Y])\n",
    "\n",
    "train_X = train_X.astype(float)\n",
    "test_X = test_X.astype(float)"
   ],
   "outputs": [],
   "execution_count": 15
  },
  {
   "cell_type": "code",
   "metadata": {
    "ExecuteTime": {
     "end_time": "2025-02-12T09:09:24.230138Z",
     "start_time": "2025-02-12T09:09:23.022165Z"
    }
   },
   "source": [
    "dtrain = xgb.DMatrix(train_X, label = train_Y)\n",
    "dtest = xgb.DMatrix(test_X)\n",
    "\n",
    "bst = xgb.train(param, dtrain, int(num_round), verbose_eval=False)\n",
    "\n",
    "y_test_pred = bst.predict(dtest)\n",
    "\n",
    "MSE_dif_fp_test = np.sqrt(np.mean(abs(np.array([10**x for x in np.reshape(test_Y, (-1))]) - np.array([10**x for x in y_test_pred]))**2))\n",
    "R2_dif_fp_test = r2_score(np.array([10**x for x in np.reshape(test_Y, (-1))]), np.array([10**x for x in y_test_pred]))\n",
    "Pearson = stats.pearsonr(np.array([10**x for x in np.reshape(test_Y, (-1))]), np.array([10**x for x in y_test_pred]))\n",
    "\n",
    "print(Pearson, MSE_dif_fp_test, R2_dif_fp_test)"
   ],
   "outputs": [
    {
     "name": "stdout",
     "output_type": "stream",
     "text": [
      "(0.9998008429306383, 2.1686600260254683e-59) 9.579658949290302 0.9666910481571516\n"
     ]
    }
   ],
   "execution_count": 16
  },
  {
   "cell_type": "markdown",
   "metadata": {},
   "source": [
    "##### Validating model"
   ]
  },
  {
   "cell_type": "code",
   "metadata": {
    "ExecuteTime": {
     "end_time": "2025-02-12T09:09:24.365154Z",
     "start_time": "2025-02-12T09:09:24.350545Z"
    }
   },
   "source": [
    "val_X = np.array(list(data_val[\"ESM2\"]))\n",
    "val_X = np.concatenate([val_X, np.array(list(data_val[\"GNN FP\"])), np.array(list(data_val[\"Temperature\"]))[:, np.newaxis], np.array(list(data_val[\"pH\"]))[:, np.newaxis]], axis = 1)\n",
    "val_Y = np.array(list(data_val[\"log10_kcat\"]))\n",
    "\n",
    "val_X = val_X.astype(float)"
   ],
   "outputs": [],
   "execution_count": 17
  },
  {
   "cell_type": "code",
   "metadata": {
    "ExecuteTime": {
     "end_time": "2025-02-12T09:09:24.437264Z",
     "start_time": "2025-02-12T09:09:24.426348Z"
    }
   },
   "source": [
    "dval = xgb.DMatrix(val_X)\n",
    "\n",
    "y_val_pred = bst.predict(dval)\n",
    "\n",
    "MSE_dif_fp_val = np.sqrt(np.mean(abs(np.array([10**x for x in np.reshape(val_Y, (-1))]) - np.array([10**x for x in y_val_pred]))**2))\n",
    "R2_dif_fp_val = r2_score(np.array([10**x for x in np.reshape(val_Y, (-1))]), np.array([10**x for x in y_val_pred]))\n",
    "Pearson = stats.pearsonr(np.array([10**x for x in np.reshape(val_Y, (-1))]), np.array([10**x for x in y_val_pred]))\n",
    "MAE = np.mean(abs(np.array([10**x for x in val_Y]) - np.array([10**x for x in y_val_pred])))\n",
    "MedAE = np.median(abs(np.array([10**x for x in val_Y]) - np.array([10**x for x in y_val_pred])))\n",
    "\n",
    "print(Pearson, MSE_dif_fp_val, R2_dif_fp_val, MAE, MedAE)\n",
    "\n",
    "with open(join(results_dir, split, \"y_test_pred_xgboost_ESM2_gnn_fp.npy\"), 'wb') as f:\n",
    "    np.save(f, y_val_pred)\n",
    "with open(join(results_dir, split, \"y_test_true_xgboost_ESM2_gnn_fp.npy\"), 'wb') as f:\n",
    "    np.save(f, val_Y)"
   ],
   "outputs": [
    {
     "name": "stdout",
     "output_type": "stream",
     "text": [
      "(-0.2649411230767653, 0.5658401658544749) 5.141653989620619 -0.431911152476375 3.703173276522141 1.806487802740822\n"
     ]
    }
   ],
   "execution_count": 18
  },
  {
   "cell_type": "markdown",
   "metadata": {},
   "source": [
    "## 2. Training a model with enzyme and reaction information (ESM-2/diff_fp) + Temperature + pH:"
   ]
  },
  {
   "cell_type": "markdown",
   "metadata": {},
   "source": [
    "#### (a) Creating input matrices:"
   ]
  },
  {
   "cell_type": "code",
   "metadata": {
    "ExecuteTime": {
     "end_time": "2025-02-12T09:09:24.758834Z",
     "start_time": "2025-02-12T09:09:24.449143Z"
    }
   },
   "source": [
    "train_X = np.array(list(data_train[\"ESM2\"]))\n",
    "train_X = np.concatenate([train_X, np.array(list(data_train[\"difference_fp\"])), np.array(list(data_train[\"Temperature\"]))[:, np.newaxis], np.array(list(data_train[\"pH\"]))[:, np.newaxis]], axis = 1)\n",
    "train_Y = np.array(list(data_train[\"log10_kcat\"]))\n",
    "\n",
    "test_X = np.array(list(data_test[\"ESM2\"]))\n",
    "test_X = np.concatenate([test_X, np.array(list(data_test[\"difference_fp\"])), np.array(list(data_test[\"Temperature\"]))[:, np.newaxis], np.array(list(data_test[\"pH\"]))[:, np.newaxis]], axis = 1)\n",
    "test_Y = np.array(list(data_test[\"log10_kcat\"]))\n",
    "\n",
    "train_X = train_X.astype(float)\n",
    "test_X = test_X.astype(float)"
   ],
   "outputs": [],
   "execution_count": 19
  },
  {
   "cell_type": "markdown",
   "metadata": {},
   "source": [
    "#### (b) Hyperparameter optimization:"
   ]
  },
  {
   "cell_type": "code",
   "metadata": {
    "ExecuteTime": {
     "end_time": "2025-02-12T09:09:24.822383Z",
     "start_time": "2025-02-12T09:09:24.816532Z"
    }
   },
   "source": [
    "# def cross_validation_mse_gradient_boosting(param):\n",
    "#     num_round = param[\"num_rounds\"]\n",
    "#     del param[\"num_rounds\"]\n",
    "#     param[\"max_depth\"] = int(np.round(param[\"max_depth\"]))\n",
    "#     # param[\"device\"] = \"cuda\"\n",
    "#     param[\"tree_method\"] = \"gpu_hist\"\n",
    "#     param[\"sampling_method\"] = \"gradient_based\"\n",
    "    \n",
    "#     MSE = []\n",
    "#     R2 = []\n",
    "#     for i in range(5):\n",
    "#         train_index, test_index  = train_indices[i], test_indices[i]\n",
    "#         dtrain = xgb.DMatrix(train_X[train_index], label = train_Y[train_index])\n",
    "#         dvalid = xgb.DMatrix(train_X[test_index])\n",
    "#         bst = xgb.train(param, dtrain, int(num_round), verbose_eval=False)\n",
    "#         y_valid_pred = bst.predict(dvalid)\n",
    "#         MSE.append(np.mean(abs(np.reshape(train_Y[test_index], (-1)) - y_valid_pred)**2))\n",
    "#         R2.append(r2_score(np.reshape(train_Y[test_index], (-1)),  y_valid_pred))\n",
    "#     return(-np.mean(R2))\n",
    "\n",
    "# space_gradient_boosting = {\n",
    "#     \"learning_rate\": hp.choice(\"learning_rate\", [0.01,0.1,0.2]),\n",
    "#     \"max_depth\": hp.quniform(\"max_depth\", 3, 10, 1),\n",
    "#     # \"subsample\": hp.quniform(\"subsample\", 0.5, 1, 0.5),\n",
    "#     \"reg_lambda\": hp.quniform(\"reg_lambda\", 0, 1, 0.2),\n",
    "#     \"reg_alpha\": hp.quniform(\"reg_alpha\", 0, 1, 0.2),\n",
    "#     \"max_delta_step\": hp.quniform(\"max_delta_step\", 1, 5, 1),\n",
    "#     \"min_child_weight\": hp.quniform(\"min_child_weight\", 1, 6, 1),\n",
    "#     \"num_rounds\":  hp.choice(\"num_rounds\", [100,250,500,1000])\n",
    "#     }\n",
    "\n",
    "# rstate = np.random.default_rng(42)\n",
    "# trials = Trials()\n",
    "# best = fmin(fn = cross_validation_mse_gradient_boosting, space = space_gradient_boosting,\n",
    "#             algo=rand.suggest, max_evals = 20, trials=trials, return_argmin=False, rstate=rstate)\n",
    "\n",
    "# print(best)\n",
    "# param = best\n",
    "# param[\"random_state\"] = 42"
   ],
   "outputs": [],
   "execution_count": 20
  },
  {
   "cell_type": "code",
   "metadata": {
    "ExecuteTime": {
     "end_time": "2025-02-12T09:09:24.881264Z",
     "start_time": "2025-02-12T09:09:24.866300Z"
    }
   },
   "source": [
    "if split == \"full\":\n",
    "    param = {\"random_state\": 42, 'learning_rate': 0.1, 'max_delta_step': 3.0, 'max_depth': 4.0, 'min_child_weight': 5.0, 'num_rounds': 500, 'reg_alpha': 0.2, 'reg_lambda': 0.4}\n",
    "elif split == \"Arabidopsis\":\n",
    "    param = {\"random_state\": 42, 'learning_rate': 0.2, 'max_delta_step': 2.0, 'max_depth': 5.0, 'min_child_weight': 3.0, 'num_rounds': 250, 'reg_alpha': 0.8, 'reg_lambda': 0.8}\n",
    "# elif split == \"Brassicaceae\":\n",
    "#     param = {\"random_state\": 42, 'learning_rate': 0.1, 'max_delta_step': 4.0, 'max_depth': 4.0, 'min_child_weight': 6.0, 'num_rounds': 750.0, 'reg_alpha': 0.4, 'reg_lambda': 0.4}\n",
    "elif split == \"wildtype\":\n",
    "    param = {\"random_state\": 42, 'learning_rate': 0.2, 'max_delta_step': 4.0, 'max_depth': 4.0, 'min_child_weight': 3.0, 'num_rounds': 100, 'reg_alpha': 0.8, 'reg_lambda': 0.0}\n",
    "else:\n",
    "    param = {\"random_state\": 42, 'learning_rate': 0.1, 'max_delta_step': 2.0, 'max_depth': 4.0, 'min_child_weight': 6.0, 'num_rounds': 1000, 'reg_alpha': 0.2, 'reg_lambda': 0.4}"
   ],
   "outputs": [],
   "execution_count": 21
  },
  {
   "cell_type": "markdown",
   "metadata": {},
   "source": [
    "#### (c) Training and validating model:"
   ]
  },
  {
   "cell_type": "code",
   "metadata": {
    "ExecuteTime": {
     "end_time": "2025-02-12T09:09:24.941035Z",
     "start_time": "2025-02-12T09:09:24.934224Z"
    }
   },
   "source": [
    "num_round = param[\"num_rounds\"]\n",
    "param[\"max_depth\"] = int(np.round(param[\"max_depth\"]))\n",
    "param[\"tree_method\"] = \"gpu_hist\"\n",
    "param[\"sampling_method\"] = \"gradient_based\"\n",
    "del param[\"num_rounds\"]"
   ],
   "outputs": [],
   "execution_count": 22
  },
  {
   "cell_type": "code",
   "metadata": {
    "ExecuteTime": {
     "end_time": "2025-02-12T09:09:49.000894Z",
     "start_time": "2025-02-12T09:09:25.022853Z"
    }
   },
   "source": [
    "R2 = []\n",
    "MSE = []\n",
    "Pearson = []\n",
    "MAE = []\n",
    "MedAE = []\n",
    "\n",
    "for i in range(5):\n",
    "    train_index, test_index  = train_indices[i], test_indices[i]\n",
    "    dtrain = xgb.DMatrix(train_X[train_index], label = train_Y[train_index])\n",
    "    dvalid = xgb.DMatrix(train_X[test_index])\n",
    "    \n",
    "    bst = xgb.train(param, dtrain, int(num_round), verbose_eval=False)\n",
    "    \n",
    "    y_valid_pred = bst.predict(dvalid)\n",
    "    MSE.append(np.sqrt(np.mean(abs(np.array([10**x for x in np.reshape(train_Y[test_index], (-1))]) - np.array([10**x for x in y_valid_pred]))**2)))\n",
    "    R2.append(r2_score([10**x for x in np.reshape(train_Y[test_index], (-1))], [10**x for x in y_valid_pred]))\n",
    "    Pearson.append(stats.pearsonr([10**x for x in np.reshape(train_Y[test_index], (-1))], [10**x for x in y_valid_pred])[0])\n",
    "    MAE.append(np.mean(abs(np.array([10**x for x in train_Y[test_index]]) - np.array([10**x for x in y_valid_pred]))))\n",
    "    MedAE.append(np.median(abs(np.array([10**x for x in train_Y[test_index]]) - np.array([10**x for x in y_valid_pred]))))\n",
    "\n",
    "print(Pearson)\n",
    "print(MSE)\n",
    "print(R2)\n",
    "print(MAE)\n",
    "print(MedAE)\n",
    "\n",
    "with open(join(results_dir, split, \"Pearson_CV_xgboost_ESM2_diff_fp.npy\"), 'wb') as f:\n",
    "    np.save(f, np.array(Pearson))\n",
    "with open(join(results_dir, split, \"MSE_CV_xgboost_ESM2_diff_fp.npy\"), 'wb') as f:\n",
    "    np.save(f, np.array(MSE))\n",
    "with open(join(results_dir, split, \"R2_CV_xgboost_ESM2_diff_fp.npy\"), 'wb') as f:\n",
    "    np.save(f, np.array(R2))"
   ],
   "outputs": [
    {
     "name": "stdout",
     "output_type": "stream",
     "text": [
      "[0.3744479762107584, 0.4863456288299669, -0.12271420643618748, 0.15308251908615017, 0.02972832982538952]\n",
      "[4.69671694676507, 13.347518787752398, 131.94783521231383, 28.453145896249957, 41.400417837564056]\n",
      "[-0.8634785896867001, -0.9281615930679064, -0.057952530969734184, -0.07890222442443195, -0.048045095674679406]\n",
      "[3.3906450142656586, 10.043408411571216, 32.32320089839727, 11.414140114849324, 11.484677298395493]\n",
      "[3.206762759435849, 9.75448089572055, 1.4389797951913907, 2.1893239740234063, 1.079610084008782]\n"
     ]
    }
   ],
   "execution_count": 23
  },
  {
   "cell_type": "code",
   "metadata": {
    "ExecuteTime": {
     "end_time": "2025-02-12T09:09:54.180775Z",
     "start_time": "2025-02-12T09:09:49.007426Z"
    }
   },
   "source": [
    "dtrain = xgb.DMatrix(train_X, label = train_Y)\n",
    "dtest = xgb.DMatrix(test_X)\n",
    "\n",
    "bst = xgb.train(param, dtrain, int(num_round), verbose_eval=False)\n",
    "\n",
    "y_test_pred = bst.predict(dtest)\n",
    "MSE_dif_fp_test = np.sqrt(np.mean(abs(np.array([10**x for x in np.reshape(test_Y, (-1))]) - np.array([10**x for x in y_test_pred]))**2))\n",
    "R2_dif_fp_test = r2_score(np.array([10**x for x in np.reshape(test_Y, (-1))]), np.array([10**x for x in y_test_pred]))\n",
    "Pearson = stats.pearsonr(np.array([10**x for x in np.reshape(test_Y, (-1))]), np.array([10**x for x in y_test_pred]))\n",
    "MAE = np.mean(abs(np.array([10**x for x in test_Y]) - np.array([10**x for x in y_test_pred])))\n",
    "MedAE = np.median(abs(np.array([10**x for x in test_Y]) - np.array([10**x for x in y_test_pred])))\n",
    "\n",
    "print(np.round(Pearson[0],3) , np.round(MSE_dif_fp_test, 10), np.round(R2_dif_fp_test,3), np.round(MAE, 10), np.round(MedAE, 10))\n",
    "\n",
    "with open(join(results_dir, split, \"y_test_pred_xgboost_ESM2_diff_fp.npy\"), 'wb') as f:\n",
    "    np.save(f, bst.predict(dtest))\n",
    "with open(join(results_dir, split, \"y_test_true_xgboost_ESM2_diff_fp.npy\"), 'wb') as f:\n",
    "    np.save(f, test_Y)"
   ],
   "outputs": [
    {
     "name": "stdout",
     "output_type": "stream",
     "text": [
      "0.78 46.3734249518 0.219 8.8215887697 0.0602869217\n"
     ]
    }
   ],
   "execution_count": 24
  },
  {
   "cell_type": "markdown",
   "metadata": {},
   "source": [
    "#### (d) Training model with test and train data for production mode:"
   ]
  },
  {
   "cell_type": "code",
   "metadata": {
    "ExecuteTime": {
     "end_time": "2025-02-12T09:09:54.673464Z",
     "start_time": "2025-02-12T09:09:54.301717Z"
    }
   },
   "source": [
    "train_X = np.array(list(data_train[\"ESM2\"]))\n",
    "train_X = np.concatenate([train_X, np.array(list(data_train[\"difference_fp\"])), np.array(list(data_train[\"Temperature\"]))[:, np.newaxis], np.array(list(data_train[\"pH\"]))[:, np.newaxis]], axis = 1)\n",
    "train_Y = np.array(list(data_train[\"log10_kcat\"]))\n",
    "\n",
    "test_X = np.array(list(data_test[\"ESM2\"]))\n",
    "test_X = np.concatenate([test_X, np.array(list(data_test[\"difference_fp\"])), np.array(list(data_test[\"Temperature\"]))[:, np.newaxis], np.array(list(data_test[\"pH\"]))[:, np.newaxis]], axis = 1)\n",
    "test_Y = np.array(list(data_test[\"log10_kcat\"]))\n",
    "\n",
    "train_X = np.concatenate([train_X, test_X])\n",
    "train_Y = np.concatenate([train_Y, test_Y])\n",
    "\n",
    "train_X = train_X.astype(float)\n",
    "test_X = test_X.astype(float)"
   ],
   "outputs": [],
   "execution_count": 25
  },
  {
   "cell_type": "code",
   "metadata": {
    "ExecuteTime": {
     "end_time": "2025-02-12T09:09:55.337908Z",
     "start_time": "2025-02-12T09:09:54.747130Z"
    }
   },
   "source": [
    "importances = bst.get_score(importance_type=\"total_gain\")\n",
    "listy = list(importances.items())\n",
    "sorted_itESM = sorted(listy, key=lambda x: x[1], reverse=True)[:30]\n",
    "print(sorted_itESM)\n",
    "dicti = dict(sorted_itESM)\n",
    "importances = pd.DataFrame({'Feature' : dicti.keys(), \"Importance\" : dicti.values()})\n",
    "def condition(x):\n",
    "    if int(x[1:]) <= 1279:\n",
    "        return \"Enzyme\"\n",
    "    elif 1279 <= int(x[1:]) <= 3327:\n",
    "        return \"Reaction\"\n",
    "    elif int(x[1:]) == 3328:\n",
    "        return 'Temperature'\n",
    "    else : \n",
    "        return 'pH'\n",
    "importances[\"Feature category\"] = importances[\"Feature\"].apply(condition)\n",
    "importances_order = importances.sort_values(by='Importance', ascending=False)[\"Feature\"]\n",
    "(ggplot(importances, aes(x=\"Feature\", y=\"Importance\", fill=\"Feature category\"))\n",
    "+ geom_bar(stat=\"identity\", width=0.9, color='black')\n",
    "+ scale_x_discrete(limits= importances_order)\n",
    "+ labs(title=\"Feature importance analysis on enzyme+reaction model (Kcat)\", y = \"Total gain\")\n",
    "+ theme_classic(base_size=38)\n",
    "+ theme(figure_size=(20, 10), axis_text_x=element_text(angle=-90), plot_title = element_text(ha = \"center\"))\n",
    ")"
   ],
   "outputs": [
    {
     "name": "stdout",
     "output_type": "stream",
     "text": [
      "[('f242', 203.44760131835938), ('f1025', 99.47826385498047), ('f602', 38.49742889404297), ('f853', 29.858318328857422), ('f1066', 22.262493133544922), ('f1028', 20.206832885742188), ('f3131', 17.43523406982422), ('f1088', 12.626955032348633), ('f3329', 12.29869270324707), ('f593', 11.588397026062012), ('f3023', 9.825798034667969), ('f2950', 9.544332504272461), ('f28', 8.231653213500977), ('f1082', 7.124903678894043), ('f813', 6.682524681091309), ('f1036', 6.433215141296387), ('f1228', 4.886631011962891), ('f1184', 4.282169342041016), ('f1177', 4.138988971710205), ('f792', 4.077589988708496), ('f1470', 3.860812187194824), ('f135', 3.706883668899536), ('f1654', 3.4651429653167725), ('f4', 3.4089746475219727), ('f1205', 3.3597724437713623), ('f275', 3.0553297996520996), ('f1053', 2.979145050048828), ('f829', 2.9028968811035156), ('f1267', 2.8540804386138916), ('f1111', 2.6853485107421875)]\n"
     ]
    },
    {
     "data": {
      "text/plain": [
       "<Figure size 2000x1000 with 1 Axes>"
      ],
      "image/png": "[encoded data removed]"
     },
     "metadata": {},
     "output_type": "display_data"
    },
    {
     "data": {
      "text/plain": [
       "<ggplot: (-9223371914600496448)>"
      ]
     },
     "execution_count": 26,
     "metadata": {},
     "output_type": "execute_result"
    }
   ],
   "execution_count": 26
  },
  {
   "cell_type": "markdown",
   "metadata": {},
   "source": [
    "##### Validating model"
   ]
  },
  {
   "cell_type": "code",
   "metadata": {
    "ExecuteTime": {
     "end_time": "2025-02-12T09:09:55.388303Z",
     "start_time": "2025-02-12T09:09:55.368331Z"
    }
   },
   "source": [
    "val_X = np.array(list(data_val[\"ESM2\"]))\n",
    "val_X = np.concatenate([val_X, np.array(list(data_val[\"difference_fp\"])), np.array(list(data_val[\"Temperature\"]))[:, np.newaxis], np.array(list(data_val[\"pH\"]))[:, np.newaxis]], axis = 1)\n",
    "val_Y = np.array(list(data_val[\"log10_kcat\"]))\n",
    "\n",
    "val_X = val_X.astype(float)"
   ],
   "outputs": [],
   "execution_count": 27
  },
  {
   "cell_type": "code",
   "metadata": {
    "ExecuteTime": {
     "end_time": "2025-02-12T09:09:55.456940Z",
     "start_time": "2025-02-12T09:09:55.444293Z"
    }
   },
   "source": [
    "dval = xgb.DMatrix(val_X)\n",
    "\n",
    "y_val_pred = bst.predict(dval)\n",
    "\n",
    "MSE_dif_fp_val = np.sqrt(np.mean(abs(np.array([10**x for x in np.reshape(val_Y, (-1))]) - np.array([10**x for x in y_val_pred]))**2))\n",
    "R2_dif_fp_val = r2_score(np.array([10**x for x in np.reshape(val_Y, (-1))]), np.array([10**x for x in y_val_pred]))\n",
    "Pearson = stats.pearsonr(np.array([10**x for x in np.reshape(val_Y, (-1))]), np.array([10**x for x in y_val_pred]))\n",
    "MAE = np.mean(abs(np.array([10**x for x in val_Y]) - np.array([10**x for x in y_val_pred])))\n",
    "MedAE = np.median(abs(np.array([10**x for x in val_Y]) - np.array([10**x for x in y_val_pred])))\n",
    "\n",
    "print(Pearson, MSE_dif_fp_val, R2_dif_fp_val, MAE, MedAE)\n",
    "with open(join(results_dir, split, \"y_test_pred_xgboost_ESM2_diff_fp.npy\"), 'wb') as f:\n",
    "    np.save(f, y_val_pred)\n",
    "with open(join(results_dir, split, \"y_test_true_xgboost_ESM2_diff_fp.npy\"), 'wb') as f:\n",
    "    np.save(f, val_Y)"
   ],
   "outputs": [
    {
     "name": "stdout",
     "output_type": "stream",
     "text": [
      "(0.3517610094891535, 0.4390812898892313) 4.170513174683065 0.05791655493634784 3.3591704909005093 2.6595720855337714\n"
     ]
    }
   ],
   "execution_count": 28
  },
  {
   "cell_type": "code",
   "metadata": {
    "ExecuteTime": {
     "end_time": "2025-02-12T09:09:56.453455Z",
     "start_time": "2025-02-12T09:09:55.581025Z"
    }
   },
   "source": [
    "explainer = shap.TreeExplainer(bst)\n",
    "explanation = explainer(10**val_X)\n",
    "\n",
    "shap_values = explanation.values\n",
    "shap_interaction_values = explainer.shap_interaction_values(val_X)\n",
    "np.abs(shap_values.sum(axis=1) + explanation.base_values - 10**y_val_pred).max()\n",
    "fig, ax = plt.subplots(1, 1, figsize=(10, 15))\n",
    "shap.decision_plot(10**explainer.expected_value, shap_values[2:4], legend_labels=[\"Thioglucosidase\", \"Beta-glucosidase\"], plot_color=\"nipy_spectral\", features=10**val_X[2:4],\n",
    "                    feature_display_range=slice(-1, -16, -1), title = \"SHAP Decision Plot for glucosinolates set (Kcat)\", legend_location = \"upper left\")\n",
    "plt.show()"
   ],
   "outputs": [
    {
     "data": {
      "text/plain": [
       "<Figure size 800x750 with 1 Axes>"
      ],
      "image/png": "[encoded data removed]"
     },
     "metadata": {},
     "output_type": "display_data"
    }
   ],
   "execution_count": 29
  },
  {
   "cell_type": "code",
   "metadata": {
    "ExecuteTime": {
     "end_time": "2025-02-12T09:09:57.715228Z",
     "start_time": "2025-02-12T09:09:56.476690Z"
    }
   },
   "source": [
    "names = list()\n",
    "for i in range(0, 1279):\n",
    "    names.append(\"Enzyme_%s\" %str(i))\n",
    "\n",
    "for i in range(0, 2047):\n",
    "    names.append(\"Reaction_%s\" %str(i))\n",
    "\n",
    "names.append([\"Temperature\", \"pH\"])\n",
    "\n",
    "shap.force_plot(explainer.expected_value, shap_values[2], val_X[2], matplotlib=True, feature_names=names, text_rotation=0)"
   ],
   "outputs": [
    {
     "data": {
      "text/plain": [
       "<Figure size 2000x300 with 1 Axes>"
      ],
      "image/png": "[encoded data removed]"
     },
     "metadata": {},
     "output_type": "display_data"
    }
   ],
   "execution_count": 30
  },
  {
   "metadata": {
    "ExecuteTime": {
     "end_time": "2025-02-12T09:10:04.732222Z",
     "start_time": "2025-02-12T09:09:57.788607Z"
    }
   },
   "cell_type": "code",
   "source": [
    "dtrain = xgb.DMatrix(train_X, label = train_Y)\n",
    "dtest = xgb.DMatrix(test_X)\n",
    "\n",
    "bst = xgb.train(param, dtrain, int(num_round), verbose_eval=False)\n",
    "\n",
    "y_test_pred = bst.predict(dtest)\n",
    "\n",
    "MSE_dif_fp_test = np.sqrt(np.mean(abs(np.array([10**x for x in np.reshape(test_Y, (-1))]) - np.array([10**x for x in y_test_pred]))**2))\n",
    "R2_dif_fp_test = r2_score(np.array([10**x for x in np.reshape(test_Y, (-1))]), np.array([10**x for x in y_test_pred]))\n",
    "Pearson = stats.pearsonr(np.array([10**x for x in np.reshape(test_Y, (-1))]), np.array([10**x for x in y_test_pred]))\n",
    "\n",
    "print(Pearson, MSE_dif_fp_test, R2_dif_fp_test)"
   ],
   "outputs": [
    {
     "name": "stdout",
     "output_type": "stream",
     "text": [
      "(0.999626425095693, 9.543606304321644e-55) 10.84357034221046 0.9573218610339533\n"
     ]
    }
   ],
   "execution_count": 31
  },
  {
   "metadata": {
    "ExecuteTime": {
     "end_time": "2025-02-12T09:10:04.898897Z",
     "start_time": "2025-02-12T09:10:04.868418Z"
    }
   },
   "cell_type": "code",
   "source": [
    "with open(join(results_dir, split, \"xgboost_ESM2_diff_fp.pkl\"), 'wb') as f:\n",
    "    pickle.dump(bst, f)"
   ],
   "outputs": [],
   "execution_count": 32
  },
  {
   "cell_type": "code",
   "metadata": {
    "ExecuteTime": {
     "end_time": "2025-02-12T09:10:05.113064Z",
     "start_time": "2025-02-12T09:10:04.905070Z"
    }
   },
   "source": [
    "predictions = pd.DataFrame({\"Actual kcat\": [10**x for x in val_Y], \"Predicted kcat\" : [10**x for x in y_val_pred], \"Difference\" : abs(np.array([10**x for x in val_Y])-np.array([10**x for x in y_val_pred]))})\n",
    "\n",
    "(\n",
    "    ggplot(predictions, aes(x = \"Actual kcat\", y=\"Predicted kcat\", fill=\"Difference\"))\n",
    "    + geom_point(color=\"black\", size=5, position = position_jitter(width = 0.0015)) \n",
    "    + geom_abline(slope = 1, intercept = 0, color = \"grey\", linetype=\"dashed\")\n",
    "    + scale_fill_gradient2(low = \"green\", mid=\"yellow\", high = \"red\", midpoint=6)\n",
    "    + labs(title=\"Predictions for glucosinolate set (Kcat)\", x=\"Actual kcat (s^(-1))\", y=\"Predicted kcat (s^(-1))\", fill=\"Difference\")\n",
    "    + theme_classic(base_size=25)\n",
    "    + xlim(min(predictions[\"Actual kcat\"]), max(predictions[\"Actual kcat\"]+0.1))\n",
    "    + ylim(min(predictions[\"Predicted kcat\"]-0.1), max(predictions[\"Predicted kcat\"]+0.1))\n",
    "    + theme(figure_size=(10, 10))\n",
    ")"
   ],
   "outputs": [
    {
     "data": {
      "text/plain": [
       "<Figure size 1000x1000 with 1 Axes>"
      ],
      "image/png": "[encoded data removed]"
     },
     "metadata": {},
     "output_type": "display_data"
    },
    {
     "data": {
      "text/plain": [
       "<ggplot: (-9223371914696752104)>"
      ]
     },
     "execution_count": 33,
     "metadata": {},
     "output_type": "execute_result"
    }
   ],
   "execution_count": 33
  },
  {
   "metadata": {
    "ExecuteTime": {
     "end_time": "2025-02-12T09:10:05.194686Z",
     "start_time": "2025-02-12T09:10:05.164466Z"
    }
   },
   "cell_type": "code",
   "source": [
    "with open(join(results_dir, split, \"xgboost_ESM2_gnn_fp.pkl\"), 'wb') as f:\n",
    "    pickle.dump(bst, f)"
   ],
   "outputs": [],
   "execution_count": 34
  },
  {
   "cell_type": "markdown",
   "metadata": {},
   "source": [
    "## 3. Training a model with enzyme, substrate (GNN fp) and reaction information (ESM-2/diff_fp) + Temperature + pH:"
   ]
  },
  {
   "cell_type": "markdown",
   "metadata": {},
   "source": [
    "#### (a) Creating input matrices:"
   ]
  },
  {
   "cell_type": "code",
   "metadata": {
    "ExecuteTime": {
     "end_time": "2025-02-12T09:10:05.493836Z",
     "start_time": "2025-02-12T09:10:05.243464Z"
    }
   },
   "source": [
    "train_X = np.array(list(data_train[\"ESM2\"]))\n",
    "train_X = np.concatenate([train_X, np.array(list(data_train[\"difference_fp\"])), np.array(list(data_train[\"GNN FP\"])), np.array(list(data_train[\"Temperature\"]))[:, np.newaxis], np.array(list(data_train[\"pH\"]))[:, np.newaxis]], axis = 1)\n",
    "train_Y = np.array(list(data_train[\"log10_kcat\"]))\n",
    "\n",
    "test_X = np.array(list(data_test[\"ESM2\"]))\n",
    "test_X = np.concatenate([test_X, np.array(list(data_test[\"difference_fp\"])), np.array(list(data_test[\"GNN FP\"])), np.array(list(data_test[\"Temperature\"]))[:, np.newaxis], np.array(list(data_test[\"pH\"]))[:, np.newaxis]], axis = 1)\n",
    "test_Y = np.array(list(data_test[\"log10_kcat\"]))\n",
    "\n",
    "train_X = train_X.astype(float)\n",
    "test_X = test_X.astype(float)"
   ],
   "outputs": [],
   "execution_count": 35
  },
  {
   "cell_type": "markdown",
   "metadata": {},
   "source": [
    "#### (b) Hyperparameter optimization:"
   ]
  },
  {
   "cell_type": "code",
   "metadata": {
    "ExecuteTime": {
     "end_time": "2025-02-12T09:10:05.555088Z",
     "start_time": "2025-02-12T09:10:05.544906Z"
    }
   },
   "source": [
    "# def cross_validation_mse_gradient_boosting(param):\n",
    "#     num_round = param[\"num_rounds\"]\n",
    "#     del param[\"num_rounds\"]\n",
    "#     param[\"max_depth\"] = int(np.round(param[\"max_depth\"]))\n",
    "#     # param[\"device\"] = \"cuda\"\n",
    "#     param[\"tree_method\"] = \"gpu_hist\"\n",
    "#     param[\"sampling_method\"] = \"gradient_based\"\n",
    "    \n",
    "#     MSE = []\n",
    "#     R2 = []\n",
    "#     for i in range(5):\n",
    "#         train_index, test_index  = train_indices[i], test_indices[i]\n",
    "#         dtrain = xgb.DMatrix(train_X[train_index], label = train_Y[train_index])\n",
    "#         dvalid = xgb.DMatrix(train_X[test_index])\n",
    "#         bst = xgb.train(param, dtrain, int(num_round), verbose_eval=False)\n",
    "#         y_valid_pred = bst.predict(dvalid)\n",
    "#         MSE.append(np.mean(abs(np.reshape(train_Y[test_index], (-1)) - y_valid_pred)**2))\n",
    "#         R2.append(r2_score(np.reshape(train_Y[test_index], (-1)),  y_valid_pred))\n",
    "#     return(-np.mean(R2))\n",
    "\n",
    "# space_gradient_boosting = {\n",
    "#     \"learning_rate\": hp.choice(\"learning_rate\", [0.01,0.1,0.2]),\n",
    "#     \"max_depth\": hp.quniform(\"max_depth\", 3, 10, 1),\n",
    "#     # \"subsample\": hp.quniform(\"subsample\", 0.5, 1, 0.5),\n",
    "#     \"reg_lambda\": hp.quniform(\"reg_lambda\", 0, 1, 0.2),\n",
    "#     \"reg_alpha\": hp.quniform(\"reg_alpha\", 0, 1, 0.2),\n",
    "#     \"max_delta_step\": hp.quniform(\"max_delta_step\", 1, 5, 1),\n",
    "#     \"min_child_weight\": hp.quniform(\"min_child_weight\", 1, 6, 1),\n",
    "#     \"num_rounds\":  hp.choice(\"num_rounds\", [100,250,500,1000])\n",
    "#     }\n",
    "\n",
    "# rstate = np.random.default_rng(42)\n",
    "# trials = Trials()\n",
    "# best = fmin(fn = cross_validation_mse_gradient_boosting, space = space_gradient_boosting,\n",
    "#             algo=rand.suggest, max_evals = 20, trials=trials, return_argmin=False, rstate=rstate)\n",
    "\n",
    "# print(best)\n",
    "# param = best\n",
    "# param[\"random_state\"] = 42"
   ],
   "outputs": [],
   "execution_count": 36
  },
  {
   "cell_type": "code",
   "metadata": {
    "ExecuteTime": {
     "end_time": "2025-02-12T09:10:05.616243Z",
     "start_time": "2025-02-12T09:10:05.606219Z"
    }
   },
   "source": [
    "if split == \"full\":\n",
    "    param = {\"random_state\": 42, 'learning_rate': 0.1, 'max_delta_step': 2.0, 'max_depth': 4.0, 'min_child_weight': 6.0, 'num_rounds': 1000, 'reg_alpha': 0.2, 'reg_lambda': 0.4}\n",
    "elif split == \"Arabidopsis\":\n",
    "    param = {\"random_state\": 42, 'learning_rate': 0.01, 'max_delta_step': 1.0, 'max_depth': 9.0, 'min_child_weight': 3.0, 'num_rounds': 250, 'reg_alpha': 1.0, 'reg_lambda': 0.8}\n",
    "# elif split == \"Brassicaceae\":\n",
    "#     param = {\"random_state\": 42, 'learning_rate': 0.1, 'max_delta_step': 3.0, 'max_depth': 3.0, 'min_child_weight': 6.0, 'num_rounds': 750.0, 'reg_alpha': 0.8, 'reg_lambda': 0.6}\n",
    "elif split == \"wildtype\":\n",
    "    param = {\"random_state\": 42, 'learning_rate': 0.1, 'max_delta_step': 2.0, 'max_depth': 4.0, 'min_child_weight': 6.0, 'num_rounds': 1000, 'reg_alpha': 0.2, 'reg_lambda': 0.4}\n",
    "else:\n",
    "    param = {\"random_state\": 42, 'learning_rate': 0.2, 'max_delta_step': 1.0, 'max_depth': 7.0, 'min_child_weight': 1.0, 'num_rounds': 1000, 'reg_alpha': 0.6, 'reg_lambda': 0.4}"
   ],
   "outputs": [],
   "execution_count": 37
  },
  {
   "cell_type": "markdown",
   "metadata": {},
   "source": [
    "#### (c) Training and validating model:"
   ]
  },
  {
   "cell_type": "code",
   "metadata": {
    "ExecuteTime": {
     "end_time": "2025-02-12T09:10:05.666954Z",
     "start_time": "2025-02-12T09:10:05.656733Z"
    }
   },
   "source": [
    "num_round = param[\"num_rounds\"]\n",
    "param[\"max_depth\"] = int(np.round(param[\"max_depth\"]))\n",
    "param[\"tree_method\"] = \"gpu_hist\"\n",
    "param[\"sampling_method\"] = \"gradient_based\"\n",
    "del param[\"num_rounds\"]"
   ],
   "outputs": [],
   "execution_count": 38
  },
  {
   "cell_type": "code",
   "metadata": {
    "ExecuteTime": {
     "end_time": "2025-02-12T09:10:22.248875Z",
     "start_time": "2025-02-12T09:10:05.756690Z"
    }
   },
   "source": [
    "R2 = []\n",
    "MSE = []\n",
    "Pearson = []\n",
    "MAE = []\n",
    "MedAE = []\n",
    "\n",
    "for i in range(5):\n",
    "    train_index, test_index  = train_indices[i], test_indices[i]\n",
    "    dtrain = xgb.DMatrix(train_X[train_index], label = train_Y[train_index])\n",
    "    dvalid = xgb.DMatrix(train_X[test_index])\n",
    "    \n",
    "    bst = xgb.train(param, dtrain, int(num_round), verbose_eval=False)\n",
    "    \n",
    "    y_valid_pred = bst.predict(dvalid)\n",
    "    MSE.append(np.sqrt(np.mean(abs(np.array([10**x for x in np.reshape(train_Y[test_index], (-1))]) - np.array([10**x for x in y_valid_pred]))**2)))\n",
    "    R2.append(r2_score([10**x for x in np.reshape(train_Y[test_index], (-1))], [10**x for x in y_valid_pred]))\n",
    "    Pearson.append(stats.pearsonr([10**x for x in np.reshape(train_Y[test_index], (-1))], [10**x for x in y_valid_pred])[0])\n",
    "    MAE.append(np.mean(abs(np.array([10**x for x in train_Y[test_index]]) - np.array([10**x for x in y_valid_pred]))))\n",
    "    MedAE.append(np.median(abs(np.array([10**x for x in train_Y[test_index]]) - np.array([10**x for x in y_valid_pred]))))\n",
    "\n",
    "print(Pearson)\n",
    "print(MSE)\n",
    "print(R2)\n",
    "print(MAE)\n",
    "print(MedAE)\n",
    "\n",
    "with open(join(results_dir, split, \"Pearson_CV_xgboost_ESM2_gnn_fp_diff_fp.npy\"), 'wb') as f:\n",
    "    np.save(f, np.array(Pearson))\n",
    "with open(join(results_dir, split, \"MSE_CV_xgboost_ESM2_gnn_fp_diff_fp.npy\"), 'wb') as f:\n",
    "    np.save(f, np.array(MSE))\n",
    "with open(join(results_dir, split, \"R2_CV_xgboost_ESM2_gnn_fp_diff_fp.npy\"), 'wb') as f:\n",
    "    np.save(f, np.array(R2))"
   ],
   "outputs": [
    {
     "name": "stdout",
     "output_type": "stream",
     "text": [
      "[0.595093495471497, 0.3770873269118614, -0.10271879619312088, -0.04317444809836638, -0.10105529637402483]\n",
      "[2.8048848391263315, 13.288576887005195, 131.8840992336321, 28.93302412052766, 42.043729361887515]\n",
      "[0.3353917898708817, -0.9111698845579033, -0.056930712699331476, -0.11560169429029488, -0.0808688106972586]\n",
      "[2.0277971306503586, 9.690249879115727, 32.12050358182761, 12.31564398355763, 12.284343942145721]\n",
      "[1.6677132877337515, 9.733084814264004, 1.1252410483486783, 3.358644398064844, 1.1175453503439572]\n"
     ]
    }
   ],
   "execution_count": 39
  },
  {
   "cell_type": "code",
   "metadata": {
    "ExecuteTime": {
     "end_time": "2025-02-12T09:10:26.130977Z",
     "start_time": "2025-02-12T09:10:22.300058Z"
    }
   },
   "source": [
    "dtrain = xgb.DMatrix(train_X, label = train_Y)\n",
    "dtest = xgb.DMatrix(test_X)\n",
    "\n",
    "bst = xgb.train(param, dtrain, int(num_round), verbose_eval=False)\n",
    "\n",
    "y_test_pred = bst.predict(dtest)\n",
    "MSE_dif_fp_test = np.sqrt(np.mean(abs(np.array([10**x for x in np.reshape(test_Y, (-1))]) - np.array([10**x for x in y_test_pred]))**2))\n",
    "R2_dif_fp_test = r2_score(np.array([10**x for x in np.reshape(test_Y, (-1))]), np.array([10**x for x in y_test_pred]))\n",
    "Pearson = stats.pearsonr(np.array([10**x for x in np.reshape(test_Y, (-1))]), np.array([10**x for x in y_test_pred]))\n",
    "MAE = np.mean(abs(np.array([10**x for x in test_Y]) - np.array([10**x for x in y_test_pred])))\n",
    "MedAE = np.median(abs(np.array([10**x for x in test_Y]) - np.array([10**x for x in y_test_pred])))\n",
    "\n",
    "print(np.round(Pearson[0],3) , np.round(MSE_dif_fp_test, 10), np.round(R2_dif_fp_test,3), np.round(MAE, 10), np.round(MedAE, 10))\n",
    "\n",
    "with open(join(results_dir, split, \"y_test_pred_xgboost_ESM2_gnn_fp_diff_fp.npy\"), 'wb') as f:\n",
    "    np.save(f, bst.predict(dtest))\n",
    "with open(join(results_dir, split, \"y_test_true_xgboost_ESM2_gnn_fp_diff_fp.npy\"), 'wb') as f:\n",
    "    np.save(f, test_Y)"
   ],
   "outputs": [
    {
     "name": "stdout",
     "output_type": "stream",
     "text": [
      "0.968 28.8290104576 0.698 6.3474243759 0.0420167093\n"
     ]
    }
   ],
   "execution_count": 40
  },
  {
   "cell_type": "markdown",
   "metadata": {},
   "source": [
    "#### (d) Training model with test and train data for production mode:"
   ]
  },
  {
   "cell_type": "code",
   "metadata": {
    "ExecuteTime": {
     "end_time": "2025-02-12T09:10:26.477733Z",
     "start_time": "2025-02-12T09:10:26.213523Z"
    }
   },
   "source": [
    "train_X = np.array(list(data_train[\"ESM2\"]))\n",
    "train_X = np.concatenate([train_X, np.array(list(data_train[\"difference_fp\"])), np.array(list(data_train[\"GNN FP\"])), np.array(list(data_train[\"Temperature\"]))[:, np.newaxis], np.array(list(data_train[\"pH\"]))[:, np.newaxis]], axis = 1)\n",
    "train_Y = np.array(list(data_train[\"log10_kcat\"]))\n",
    "\n",
    "test_X = np.array(list(data_test[\"ESM2\"]))\n",
    "test_X = np.concatenate([test_X, np.array(list(data_test[\"difference_fp\"])), np.array(list(data_test[\"GNN FP\"])), np.array(list(data_test[\"Temperature\"]))[:, np.newaxis], np.array(list(data_test[\"pH\"]))[:, np.newaxis]], axis = 1)\n",
    "test_Y = np.array(list(data_test[\"log10_kcat\"]))\n",
    "\n",
    "train_X = np.concatenate([train_X, test_X])\n",
    "train_Y = np.concatenate([train_Y, test_Y])\n",
    "\n",
    "train_X = train_X.astype(float)\n",
    "test_X = test_X.astype(float)"
   ],
   "outputs": [],
   "execution_count": 41
  },
  {
   "cell_type": "code",
   "metadata": {
    "ExecuteTime": {
     "end_time": "2025-02-12T09:10:30.909406Z",
     "start_time": "2025-02-12T09:10:26.521610Z"
    }
   },
   "source": [
    "dtrain = xgb.DMatrix(train_X, label = train_Y)\n",
    "dtest = xgb.DMatrix(test_X)\n",
    "\n",
    "bst = xgb.train(param, dtrain, int(num_round), verbose_eval=False)\n",
    "\n",
    "y_test_pred = bst.predict(dtest)\n",
    "\n",
    "MSE_dif_fp_test = np.sqrt(np.mean(abs(np.array([10**x for x in np.reshape(test_Y, (-1))]) - np.array([10**x for x in y_test_pred]))**2))\n",
    "R2_dif_fp_test = r2_score(np.array([10**x for x in np.reshape(test_Y, (-1))]), np.array([10**x for x in y_test_pred]))\n",
    "Pearson = stats.pearsonr(np.array([10**x for x in np.reshape(test_Y, (-1))]), np.array([10**x for x in y_test_pred]))\n",
    "\n",
    "print(Pearson, MSE_dif_fp_test, R2_dif_fp_test)"
   ],
   "outputs": [
    {
     "name": "stdout",
     "output_type": "stream",
     "text": [
      "(0.9998894632120197, 9.767225602656046e-64) 6.943068176289562 0.9825029944101197\n"
     ]
    }
   ],
   "execution_count": 42
  },
  {
   "metadata": {
    "ExecuteTime": {
     "end_time": "2025-02-12T09:10:31.010321Z",
     "start_time": "2025-02-12T09:10:30.972081Z"
    }
   },
   "cell_type": "code",
   "source": [
    "with open(join(results_dir, split, \"xgboost_ESM2_gnn_fp_diff_fp.pkl\"), 'wb') as f:\n",
    "    pickle.dump(bst, f)"
   ],
   "outputs": [],
   "execution_count": 43
  },
  {
   "cell_type": "code",
   "metadata": {
    "ExecuteTime": {
     "end_time": "2025-02-12T09:10:31.087091Z",
     "start_time": "2025-02-12T09:10:31.058396Z"
    }
   },
   "source": [
    "val_X = np.array(list(data_val[\"ESM2\"]))\n",
    "val_X = np.concatenate([val_X, np.array(list(data_val[\"difference_fp\"])), np.array(list(data_val[\"GNN FP\"])), np.array(list(data_val[\"Temperature\"]))[:, np.newaxis], np.array(list(data_val[\"pH\"]))[:, np.newaxis]], axis = 1)\n",
    "val_Y = np.array(list(data_val[\"log10_kcat\"]))\n",
    "\n",
    "val_X = val_X.astype(float)"
   ],
   "outputs": [],
   "execution_count": 44
  },
  {
   "cell_type": "code",
   "metadata": {
    "ExecuteTime": {
     "end_time": "2025-02-12T09:10:31.156862Z",
     "start_time": "2025-02-12T09:10:31.138887Z"
    }
   },
   "source": [
    "dval = xgb.DMatrix(val_X)\n",
    "\n",
    "y_val_pred = bst.predict(dval)\n",
    "\n",
    "MSE_dif_fp_val = np.sqrt(np.mean(abs(np.array([10**x for x in np.reshape(val_Y, (-1))]) - np.array([10**x for x in y_val_pred]))**2))\n",
    "R2_dif_fp_val = r2_score(np.array([10**x for x in np.reshape(val_Y, (-1))]), np.array([10**x for x in y_val_pred]))\n",
    "Pearson = stats.pearsonr(np.array([10**x for x in np.reshape(val_Y, (-1))]), np.array([10**x for x in y_val_pred]))\n",
    "MAE = np.mean(abs(np.array([10**x for x in val_Y]) - np.array([10**x for x in y_val_pred])))\n",
    "MedAE = np.median(abs(np.array([10**x for x in val_Y]) - np.array([10**x for x in y_val_pred])))\n",
    "\n",
    "print(Pearson, MSE_dif_fp_val, R2_dif_fp_val, MAE, MedAE)\n",
    "\n",
    "with open(join(results_dir, split, \"y_test_pred_xgboost_ESM2_gnn_fp_diff_fp.npy\"), 'wb') as f:\n",
    "    np.save(f, y_val_pred)\n",
    "with open(join(results_dir, split, \"y_test_true_xgboost_ESM2_gnn_fp_diff_fp.npy\"), 'wb') as f:\n",
    "    np.save(f, val_Y)"
   ],
   "outputs": [
    {
     "name": "stdout",
     "output_type": "stream",
     "text": [
      "(-0.38225083347318695, 0.397422217662461) 4.8341194352659995 -0.2657418205911737 3.605257043250575 2.1127105985584644\n"
     ]
    }
   ],
   "execution_count": 45
  },
  {
   "cell_type": "markdown",
   "metadata": {},
   "source": [
    "## 4. Training a model with enzyme information (ESM-2) + Temperature + pH:"
   ]
  },
  {
   "cell_type": "markdown",
   "metadata": {},
   "source": [
    "#### (a) Creating input matrices:"
   ]
  },
  {
   "cell_type": "code",
   "metadata": {
    "ExecuteTime": {
     "end_time": "2025-02-12T09:10:31.353962Z",
     "start_time": "2025-02-12T09:10:31.227686Z"
    }
   },
   "source": [
    "train_X = np.array(list(data_train[\"ESM2\"]))\n",
    "train_X = np.concatenate([train_X, np.array(list(data_train[\"Temperature\"]))[:, np.newaxis], np.array(list(data_train[\"pH\"]))[:, np.newaxis]], axis = 1)\n",
    "train_Y = np.array(list(data_train[\"log10_kcat\"]))\n",
    "\n",
    "test_X = np.array(list(data_test[\"ESM2\"]))\n",
    "test_X = np.concatenate([test_X, np.array(list(data_test[\"Temperature\"]))[:, np.newaxis], np.array(list(data_test[\"pH\"]))[:, np.newaxis]], axis = 1)\n",
    "test_Y = np.array(list(data_test[\"log10_kcat\"]))\n",
    "\n",
    "train_X = train_X.astype(float)\n",
    "test_X = test_X.astype(float)"
   ],
   "outputs": [],
   "execution_count": 46
  },
  {
   "cell_type": "markdown",
   "metadata": {},
   "source": [
    "#### (b) Hyperparameter optimization:"
   ]
  },
  {
   "cell_type": "code",
   "metadata": {
    "ExecuteTime": {
     "end_time": "2025-02-12T09:10:31.415509Z",
     "start_time": "2025-02-12T09:10:31.405337Z"
    }
   },
   "source": [
    "# def cross_validation_mse_gradient_boosting(param):\n",
    "#     num_round = param[\"num_rounds\"]\n",
    "#     del param[\"num_rounds\"]\n",
    "#     param[\"max_depth\"] = int(np.round(param[\"max_depth\"]))\n",
    "#     # param[\"device\"] = \"cuda\"\n",
    "#     param[\"tree_method\"] = \"gpu_hist\"\n",
    "#     param[\"sampling_method\"] = \"gradient_based\"\n",
    "    \n",
    "#     MSE = []\n",
    "#     R2 = []\n",
    "#     for i in range(5):\n",
    "#         train_index, test_index  = train_indices[i], test_indices[i]\n",
    "#         dtrain = xgb.DMatrix(train_X[train_index], label = train_Y[train_index])\n",
    "#         dvalid = xgb.DMatrix(train_X[test_index])\n",
    "#         bst = xgb.train(param, dtrain, int(num_round), verbose_eval=False)\n",
    "#         y_valid_pred = bst.predict(dvalid)\n",
    "#         MSE.append(np.mean(abs(np.reshape(train_Y[test_index], (-1)) - y_valid_pred)**2))\n",
    "#         R2.append(r2_score(np.reshape(train_Y[test_index], (-1)),  y_valid_pred))\n",
    "#     return(-np.mean(R2))\n",
    "\n",
    "# space_gradient_boosting = {\n",
    "#     \"learning_rate\": hp.choice(\"learning_rate\", [0.01,0.1,0.2]),\n",
    "#     \"max_depth\": hp.quniform(\"max_depth\", 3, 10, 1),\n",
    "#     # \"subsample\": hp.quniform(\"subsample\", 0.5, 1, 0.5),\n",
    "#     \"reg_lambda\": hp.quniform(\"reg_lambda\", 0, 1, 0.2),\n",
    "#     \"reg_alpha\": hp.quniform(\"reg_alpha\", 0, 1, 0.2),\n",
    "#     \"max_delta_step\": hp.quniform(\"max_delta_step\", 1, 5, 1),\n",
    "#     \"min_child_weight\": hp.quniform(\"min_child_weight\", 1, 6, 1),\n",
    "#     \"num_rounds\":  hp.choice(\"num_rounds\", [100,250,500,1000])\n",
    "#     }\n",
    "\n",
    "# rstate = np.random.default_rng(42)\n",
    "# trials = Trials()\n",
    "# best = fmin(fn = cross_validation_mse_gradient_boosting, space = space_gradient_boosting,\n",
    "#             algo=rand.suggest, max_evals = 20, trials=trials, return_argmin=False, rstate=rstate)\n",
    "\n",
    "# print(best)\n",
    "# param = best\n",
    "# param[\"random_state\"] = 42"
   ],
   "outputs": [],
   "execution_count": 47
  },
  {
   "cell_type": "code",
   "metadata": {
    "ExecuteTime": {
     "end_time": "2025-02-12T09:10:31.466355Z",
     "start_time": "2025-02-12T09:10:31.456167Z"
    }
   },
   "source": [
    "if split == \"full\":\n",
    "    param = {\"random_state\": 42, 'learning_rate': 0.1, 'max_delta_step': 2.0, 'max_depth': 4.0, 'min_child_weight': 6.0, 'num_rounds': 1000, 'reg_alpha': 0.2, 'reg_lambda': 0.4}\n",
    "elif split == \"Arabidopsis\":\n",
    "    param = {\"random_state\": 42, 'learning_rate': 0.1, 'max_delta_step': 3.0, 'max_depth': 4.0, 'min_child_weight': 5.0, 'num_rounds': 500, 'reg_alpha': 0.2, 'reg_lambda': 0.4}\n",
    "# elif split == \"Brassicaceae\":\n",
    "#     param = {\"random_state\": 42, 'learning_rate': 0.1, 'max_delta_step': 4.0, 'max_depth': 3.0, 'min_child_weight': 6.0, 'num_rounds': 250.0, 'reg_alpha': 0.4, 'reg_lambda': 0.4}\n",
    "elif split == \"wildtype\":\n",
    "    param = {\"random_state\": 42, 'learning_rate': 0.1, 'max_delta_step': 2.0, 'max_depth': 4.0, 'min_child_weight': 6.0, 'num_rounds': 1000, 'reg_alpha': 0.2, 'reg_lambda': 0.4}\n",
    "else:\n",
    "    param = {\"random_state\": 42, 'learning_rate': 0.2, 'max_delta_step': 1.0, 'max_depth': 8.0, 'min_child_weight': 4.0, 'num_rounds': 250, 'reg_alpha': 0.6, 'reg_lambda': 0.8}"
   ],
   "outputs": [],
   "execution_count": 48
  },
  {
   "cell_type": "markdown",
   "metadata": {},
   "source": [
    "#### (c) Training and validating model:"
   ]
  },
  {
   "cell_type": "code",
   "metadata": {
    "ExecuteTime": {
     "end_time": "2025-02-12T09:10:31.520364Z",
     "start_time": "2025-02-12T09:10:31.510322Z"
    }
   },
   "source": [
    "num_round = param[\"num_rounds\"]\n",
    "param[\"max_depth\"] = int(np.round(param[\"max_depth\"]))\n",
    "param[\"tree_method\"] = \"gpu_hist\"\n",
    "param[\"sampling_method\"] = \"gradient_based\"\n",
    "del param[\"num_rounds\"]"
   ],
   "outputs": [],
   "execution_count": 49
  },
  {
   "cell_type": "code",
   "metadata": {
    "ExecuteTime": {
     "end_time": "2025-02-12T09:10:35.076914Z",
     "start_time": "2025-02-12T09:10:31.560713Z"
    }
   },
   "source": [
    "R2 = []\n",
    "MSE = []\n",
    "Pearson = []\n",
    "MAE = []\n",
    "MedAE = []\n",
    "\n",
    "for i in range(5):\n",
    "    train_index, test_index  = train_indices[i], test_indices[i]\n",
    "    dtrain = xgb.DMatrix(train_X[train_index], label = train_Y[train_index])\n",
    "    dvalid = xgb.DMatrix(train_X[test_index])\n",
    "    \n",
    "    bst = xgb.train(param, dtrain, int(num_round), verbose_eval=False)\n",
    "    \n",
    "    y_valid_pred = bst.predict(dvalid)\n",
    "    MSE.append(np.sqrt(np.mean(abs(np.array([10**x for x in np.reshape(train_Y[test_index], (-1))]) - np.array([10**x for x in y_valid_pred]))**2)))\n",
    "    R2.append(r2_score([10**x for x in np.reshape(train_Y[test_index], (-1))], [10**x for x in y_valid_pred]))\n",
    "    Pearson.append(stats.pearsonr([10**x for x in np.reshape(train_Y[test_index], (-1))], [10**x for x in y_valid_pred])[0])\n",
    "    MAE.append(np.mean(abs(np.array([10**x for x in train_Y[test_index]]) - np.array([10**x for x in y_valid_pred]))))\n",
    "    MedAE.append(np.median(abs(np.array([10**x for x in train_Y[test_index]]) - np.array([10**x for x in y_valid_pred]))))\n",
    "\n",
    "print(Pearson)\n",
    "print(MSE)\n",
    "print(R2)\n",
    "print(MAE)\n",
    "print(MedAE)\n",
    "\n",
    "with open(join(\"..\", \"..\", \"data\", split, \"Pearson_CV_xgboost_ESM2.npy\"), 'wb') as f:\n",
    "    np.save(f, np.array(Pearson))\n",
    "with open(join(\"..\", \"..\", \"data\", split, \"MSE_CV_xgboost_ESM2.npy\"), 'wb') as f:\n",
    "    np.save(f, np.array(MSE))\n",
    "with open(join(\"..\", \"..\", \"data\", split, \"R2_CV_xgboost_ESM2.npy\"), 'wb') as f:\n",
    "    np.save(f, np.array(R2))"
   ],
   "outputs": [
    {
     "name": "stdout",
     "output_type": "stream",
     "text": [
      "[0.25632931264171993, 0.5752235139025781, -0.10104256914693022, -0.24135731243204087, 0.07395880419386214]\n",
      "[4.639047320246003, 13.463468270427134, 131.93125992705737, 29.483199885506124, 41.15118957888805]\n",
      "[-0.8179973129291203, -0.9618068589432924, -0.05768674769965809, -0.15843251970004246, -0.035464727864746415]\n",
      "[3.463862023807774, 9.879165095594105, 31.791465657874777, 11.378863572109994, 11.595003771809337]\n",
      "[2.3048229867281713, 9.66825853592817, 1.094072389762641, 0.9711974520088072, 1.3442002034309788]\n"
     ]
    },
    {
     "ename": "FileNotFoundError",
     "evalue": "[Errno 2] No such file or directory: '..\\\\..\\\\data\\\\secondary\\\\Pearson_CV_xgboost_ESM2.npy'",
     "output_type": "error",
     "traceback": [
      "\u001B[1;31m---------------------------------------------------------------------------\u001B[0m",
      "\u001B[1;31mFileNotFoundError\u001B[0m                         Traceback (most recent call last)",
      "\u001B[1;32m~\\AppData\\Local\\Temp\\ipykernel_15424\\1581650012.py\u001B[0m in \u001B[0;36m<module>\u001B[1;34m\u001B[0m\n\u001B[0;32m     25\u001B[0m \u001B[0mprint\u001B[0m\u001B[1;33m(\u001B[0m\u001B[0mMedAE\u001B[0m\u001B[1;33m)\u001B[0m\u001B[1;33m\u001B[0m\u001B[1;33m\u001B[0m\u001B[0m\n\u001B[0;32m     26\u001B[0m \u001B[1;33m\u001B[0m\u001B[0m\n\u001B[1;32m---> 27\u001B[1;33m \u001B[0mnp\u001B[0m\u001B[1;33m.\u001B[0m\u001B[0msave\u001B[0m\u001B[1;33m(\u001B[0m\u001B[0mjoin\u001B[0m\u001B[1;33m(\u001B[0m\u001B[1;34m\"..\"\u001B[0m\u001B[1;33m,\u001B[0m \u001B[1;34m\"..\"\u001B[0m\u001B[1;33m,\u001B[0m \u001B[1;34m\"data\"\u001B[0m\u001B[1;33m,\u001B[0m \u001B[0msplit\u001B[0m\u001B[1;33m,\u001B[0m \u001B[1;34m\"Pearson_CV_xgboost_ESM2.npy\"\u001B[0m\u001B[1;33m)\u001B[0m\u001B[1;33m,\u001B[0m \u001B[0mnp\u001B[0m\u001B[1;33m.\u001B[0m\u001B[0marray\u001B[0m\u001B[1;33m(\u001B[0m\u001B[0mPearson\u001B[0m\u001B[1;33m)\u001B[0m\u001B[1;33m)\u001B[0m\u001B[1;33m\u001B[0m\u001B[1;33m\u001B[0m\u001B[0m\n\u001B[0m\u001B[0;32m     28\u001B[0m \u001B[0mnp\u001B[0m\u001B[1;33m.\u001B[0m\u001B[0msave\u001B[0m\u001B[1;33m(\u001B[0m\u001B[0mjoin\u001B[0m\u001B[1;33m(\u001B[0m\u001B[1;34m\"..\"\u001B[0m\u001B[1;33m,\u001B[0m \u001B[1;34m\"..\"\u001B[0m\u001B[1;33m,\u001B[0m \u001B[1;34m\"data\"\u001B[0m\u001B[1;33m,\u001B[0m \u001B[0msplit\u001B[0m\u001B[1;33m,\u001B[0m \u001B[1;34m\"MSE_CV_xgboost_ESM2.npy\"\u001B[0m\u001B[1;33m)\u001B[0m\u001B[1;33m,\u001B[0m \u001B[0mnp\u001B[0m\u001B[1;33m.\u001B[0m\u001B[0marray\u001B[0m\u001B[1;33m(\u001B[0m\u001B[0mMSE\u001B[0m\u001B[1;33m)\u001B[0m\u001B[1;33m)\u001B[0m\u001B[1;33m\u001B[0m\u001B[1;33m\u001B[0m\u001B[0m\n\u001B[0;32m     29\u001B[0m \u001B[0mnp\u001B[0m\u001B[1;33m.\u001B[0m\u001B[0msave\u001B[0m\u001B[1;33m(\u001B[0m\u001B[0mjoin\u001B[0m\u001B[1;33m(\u001B[0m\u001B[1;34m\"..\"\u001B[0m\u001B[1;33m,\u001B[0m \u001B[1;34m\"..\"\u001B[0m\u001B[1;33m,\u001B[0m \u001B[1;34m\"data\"\u001B[0m\u001B[1;33m,\u001B[0m \u001B[0msplit\u001B[0m\u001B[1;33m,\u001B[0m \u001B[1;34m\"R2_CV_xgboost_ESM2.npy\"\u001B[0m\u001B[1;33m)\u001B[0m\u001B[1;33m,\u001B[0m \u001B[0mnp\u001B[0m\u001B[1;33m.\u001B[0m\u001B[0marray\u001B[0m\u001B[1;33m(\u001B[0m\u001B[0mR2\u001B[0m\u001B[1;33m)\u001B[0m\u001B[1;33m)\u001B[0m\u001B[1;33m\u001B[0m\u001B[1;33m\u001B[0m\u001B[0m\n",
      "\u001B[1;32m<__array_function__ internals>\u001B[0m in \u001B[0;36msave\u001B[1;34m(*args, **kwargs)\u001B[0m\n",
      "\u001B[1;32m~\\AppData\\Local\\anaconda3\\envs\\Enkyme\\lib\\site-packages\\numpy\\lib\\npyio.py\u001B[0m in \u001B[0;36msave\u001B[1;34m(file, arr, allow_pickle, fix_imports)\u001B[0m\n\u001B[0;32m    523\u001B[0m         \u001B[1;32mif\u001B[0m \u001B[1;32mnot\u001B[0m \u001B[0mfile\u001B[0m\u001B[1;33m.\u001B[0m\u001B[0mendswith\u001B[0m\u001B[1;33m(\u001B[0m\u001B[1;34m'.npy'\u001B[0m\u001B[1;33m)\u001B[0m\u001B[1;33m:\u001B[0m\u001B[1;33m\u001B[0m\u001B[1;33m\u001B[0m\u001B[0m\n\u001B[0;32m    524\u001B[0m             \u001B[0mfile\u001B[0m \u001B[1;33m=\u001B[0m \u001B[0mfile\u001B[0m \u001B[1;33m+\u001B[0m \u001B[1;34m'.npy'\u001B[0m\u001B[1;33m\u001B[0m\u001B[1;33m\u001B[0m\u001B[0m\n\u001B[1;32m--> 525\u001B[1;33m         \u001B[0mfile_ctx\u001B[0m \u001B[1;33m=\u001B[0m \u001B[0mopen\u001B[0m\u001B[1;33m(\u001B[0m\u001B[0mfile\u001B[0m\u001B[1;33m,\u001B[0m \u001B[1;34m\"wb\"\u001B[0m\u001B[1;33m)\u001B[0m\u001B[1;33m\u001B[0m\u001B[1;33m\u001B[0m\u001B[0m\n\u001B[0m\u001B[0;32m    526\u001B[0m \u001B[1;33m\u001B[0m\u001B[0m\n\u001B[0;32m    527\u001B[0m     \u001B[1;32mwith\u001B[0m \u001B[0mfile_ctx\u001B[0m \u001B[1;32mas\u001B[0m \u001B[0mfid\u001B[0m\u001B[1;33m:\u001B[0m\u001B[1;33m\u001B[0m\u001B[1;33m\u001B[0m\u001B[0m\n",
      "\u001B[1;31mFileNotFoundError\u001B[0m: [Errno 2] No such file or directory: '..\\\\..\\\\data\\\\secondary\\\\Pearson_CV_xgboost_ESM2.npy'"
     ]
    }
   ],
   "execution_count": 50
  },
  {
   "metadata": {
    "ExecuteTime": {
     "end_time": "2025-02-12T09:17:34.685020Z",
     "start_time": "2025-02-12T09:17:34.671982Z"
    }
   },
   "cell_type": "code",
   "source": [
    "import os\n",
    "os.getcwd()"
   ],
   "outputs": [
    {
     "data": {
      "text/plain": [
       "'C:\\\\Users\\\\jearle\\\\Desktop\\\\PhD files that I dont want to be backuped constantly\\\\kin_consts_pred\\\\Enkyme\\\\Kcat\\\\code\\\\modelling'"
      ]
     },
     "execution_count": 51,
     "metadata": {},
     "output_type": "execute_result"
    }
   ],
   "execution_count": 51
  },
  {
   "cell_type": "code",
   "execution_count": null,
   "metadata": {},
   "outputs": [],
   "source": [
    "dtrain = xgb.DMatrix(train_X, label = train_Y)\n",
    "dtest = xgb.DMatrix(test_X, label = test_Y)\n",
    "\n",
    "bst = xgb.train(param, dtrain, int(num_round), verbose_eval=False)\n",
    "\n",
    "y_test_pred = bst.predict(dtest)\n",
    "\n",
    "data_test[\"Estimate kcat\"] = y_test_pred\n",
    "\n",
    "MSE_dif_fp_test = np.sqrt(np.mean(abs(np.array([10**x for x in test_Y]) - np.array([10**x for x in y_test_pred]))**2))\n",
    "R2_dif_fp_test = r2_score(np.array([10**x for x in test_Y]), np.array([10**x for x in y_test_pred]))\n",
    "Pearson = stats.pearsonr(np.array([10**x for x in test_Y]), np.array([10**x for x in y_test_pred]))\n",
    "MAE = np.mean(abs(np.array([10**x for x in test_Y]) - np.array([10**x for x in y_test_pred])))\n",
    "MedAE = np.median(abs(np.array([10**x for x in test_Y]) - np.array([10**x for x in y_test_pred])))\n",
    "\n",
    "print(np.round(Pearson[0],3) , np.round(MSE_dif_fp_test, 10), np.round(R2_dif_fp_test,3), np.round(MAE, 10), np.round(MedAE, 10))\n",
    "\n",
    "with open(join(results_dir, split, \"y_test_pred_xgboost_ESM2.npy\"), 'wb') as f:\n",
    "    np.save(f, bst.predict(dtest))\n",
    "with open(join(results_dir, split, \"y_test_true_xgboost_ESM2.npy\"), 'wb') as f:\n",
    "    np.save(f, test_Y)"
   ]
  },
  {
   "cell_type": "markdown",
   "metadata": {},
   "source": [
    "#### (d) Training model with test and train data for production mode:"
   ]
  },
  {
   "cell_type": "code",
   "execution_count": null,
   "metadata": {},
   "outputs": [],
   "source": [
    "train_X = np.array(list(data_train[\"ESM2\"]))\n",
    "train_X = np.concatenate([train_X, np.array(list(data_train[\"Temperature\"]))[:, np.newaxis], np.array(list(data_train[\"pH\"]))[:, np.newaxis]], axis = 1)\n",
    "train_Y = np.array(list(data_train[\"log10_kcat\"]))\n",
    "\n",
    "test_X = np.array(list(data_test[\"ESM2\"]))\n",
    "test_X = np.concatenate([test_X, np.array(list(data_test[\"Temperature\"]))[:, np.newaxis], np.array(list(data_test[\"pH\"]))[:, np.newaxis]], axis = 1)\n",
    "test_Y = np.array(list(data_test[\"log10_kcat\"]))\n",
    "\n",
    "train_X = np.concatenate([train_X, test_X])\n",
    "train_Y = np.concatenate([train_Y, test_Y])\n",
    "\n",
    "train_X = train_X.astype(float)\n",
    "test_X = test_X.astype(float)"
   ]
  },
  {
   "cell_type": "code",
   "execution_count": null,
   "metadata": {},
   "outputs": [],
   "source": [
    "dtrain = xgb.DMatrix(train_X, label = train_Y)\n",
    "dtest = xgb.DMatrix(test_X)\n",
    "\n",
    "bst = xgb.train(param, dtrain, int(num_round), verbose_eval=False)\n",
    "\n",
    "y_test_pred = bst.predict(dtest)\n",
    "\n",
    "MSE_dif_fp_test = np.sqrt(np.mean(abs(np.array([10**x for x in np.reshape(test_Y, (-1))]) - np.array([10**x for x in y_test_pred]))**2))\n",
    "R2_dif_fp_test = r2_score(np.array([10**x for x in np.reshape(test_Y, (-1))]), np.array([10**x for x in y_test_pred]))\n",
    "Pearson = stats.pearsonr(np.array([10**x for x in np.reshape(test_Y, (-1))]), np.array([10**x for x in y_test_pred]))\n",
    "\n",
    "print(Pearson, MSE_dif_fp_test, R2_dif_fp_test)"
   ]
  },
  {
   "metadata": {},
   "cell_type": "code",
   "outputs": [],
   "execution_count": null,
   "source": [
    "with open(join(results_dir, split, \"xgboost_ESM2.pkl\"), 'wb') as f:\n",
    "    pickle.dump(bst, f)"
   ]
  },
  {
   "cell_type": "markdown",
   "metadata": {},
   "source": [
    "#### (e) Validating model:"
   ]
  },
  {
   "cell_type": "code",
   "execution_count": null,
   "metadata": {},
   "outputs": [],
   "source": [
    "val_X = np.array(list(data_val[\"ESM2\"]))\n",
    "val_X = np.concatenate([val_X, np.array(list(data_val[\"Temperature\"]))[:, np.newaxis], np.array(list(data_val[\"pH\"]))[:, np.newaxis]], axis = 1)\n",
    "val_Y = np.array(list(data_val[\"log10_kcat\"]))\n",
    "\n",
    "val_X = val_X.astype(float)\n",
    "\n",
    "dval = xgb.DMatrix(val_X)\n",
    "\n",
    "y_val_pred = bst.predict(dval)\n",
    "\n",
    "MSE_dif_fp_val = np.sqrt(np.mean(abs(np.array([10**x for x in np.reshape(val_Y, (-1))]) - np.array([10**x for x in y_val_pred]))**2))\n",
    "R2_dif_fp_val = r2_score(np.array([10**x for x in np.reshape(val_Y, (-1))]), np.array([10**x for x in y_val_pred]))\n",
    "Pearson = stats.pearsonr(np.array([10**x for x in np.reshape(val_Y, (-1))]), np.array([10**x for x in y_val_pred]))\n",
    "MAE = np.mean(abs(np.array([10**x for x in val_Y]) - np.array([10**x for x in y_val_pred])))\n",
    "MedAE = np.median(abs(np.array([10**x for x in val_Y]) - np.array([10**x for x in y_val_pred])))\n",
    "\n",
    "print(Pearson, MSE_dif_fp_val, R2_dif_fp_val, MAE, MedAE)\n",
    "\n",
    "with open(join(results_dir, split, \"y_test_pred_xgboost_ESM2.npy\"), 'wb') as f:\n",
    "    np.save(f, y_val_pred)\n",
    "with open(join(results_dir, split, \"y_test_true_xgboost_ESM2.npy\"), 'wb') as f:\n",
    "    np.save(f, val_Y)"
   ]
  },
  {
   "cell_type": "markdown",
   "metadata": {},
   "source": [
    "## 5. Training a model with main substrate information (GNN) + Temperature + pH:"
   ]
  },
  {
   "cell_type": "markdown",
   "metadata": {},
   "source": [
    "#### (a) Creating input matrices:"
   ]
  },
  {
   "cell_type": "code",
   "execution_count": null,
   "metadata": {},
   "outputs": [],
   "source": [
    "train_X = np.array(list(data_train['GNN FP']))\n",
    "train_X = np.concatenate([train_X, np.array(list(data_train[\"Temperature\"]))[:, np.newaxis], np.array(list(data_train[\"pH\"]))[:, np.newaxis]], axis = 1)\n",
    "train_Y = np.array(list(data_train[\"log10_kcat\"]))\n",
    "\n",
    "test_X = np.array(list(data_test['GNN FP']))\n",
    "test_X = np.concatenate([test_X, np.array(list(data_test[\"Temperature\"]))[:, np.newaxis], np.array(list(data_test[\"pH\"]))[:, np.newaxis]], axis = 1)\n",
    "test_Y = np.array(list(data_test[\"log10_kcat\"]))\n",
    "\n",
    "train_X = train_X.astype(float)\n",
    "test_X = test_X.astype(float)"
   ]
  },
  {
   "cell_type": "markdown",
   "metadata": {},
   "source": [
    "#### (b) Hyperparameter optimization:"
   ]
  },
  {
   "cell_type": "code",
   "execution_count": null,
   "metadata": {},
   "outputs": [],
   "source": [
    "# def cross_validation_mse_gradient_boosting(param):\n",
    "#     num_round = param[\"num_rounds\"]\n",
    "#     del param[\"num_rounds\"]\n",
    "#     param[\"max_depth\"] = int(np.round(param[\"max_depth\"]))\n",
    "#     # param[\"device\"] = \"cuda\"\n",
    "#     param[\"tree_method\"] = \"gpu_hist\"\n",
    "#     param[\"sampling_method\"] = \"gradient_based\"\n",
    "    \n",
    "#     MSE = []\n",
    "#     R2 = []\n",
    "#     for i in range(5):\n",
    "#         train_index, test_index  = train_indices[i], test_indices[i]\n",
    "#         dtrain = xgb.DMatrix(train_X[train_index], label = train_Y[train_index])\n",
    "#         dvalid = xgb.DMatrix(train_X[test_index])\n",
    "#         bst = xgb.train(param, dtrain, int(num_round), verbose_eval=False)\n",
    "#         y_valid_pred = bst.predict(dvalid)\n",
    "#         MSE.append(np.mean(abs(np.reshape(train_Y[test_index], (-1)) - y_valid_pred)**2))\n",
    "#         R2.append(r2_score(np.reshape(train_Y[test_index], (-1)),  y_valid_pred))\n",
    "#     return(-np.mean(R2))\n",
    "\n",
    "# space_gradient_boosting = {\n",
    "#     \"learning_rate\": hp.choice(\"learning_rate\", [0.01,0.1,0.2]),\n",
    "#     \"max_depth\": hp.quniform(\"max_depth\", 3, 10, 1),\n",
    "#     # \"subsample\": hp.quniform(\"subsample\", 0.5, 1, 0.5),\n",
    "#     \"reg_lambda\": hp.quniform(\"reg_lambda\", 0, 1, 0.2),\n",
    "#     \"reg_alpha\": hp.quniform(\"reg_alpha\", 0, 1, 0.2),\n",
    "#     \"max_delta_step\": hp.quniform(\"max_delta_step\", 1, 5, 1),\n",
    "#     \"min_child_weight\": hp.quniform(\"min_child_weight\", 1, 6, 1),\n",
    "#     \"num_rounds\":  hp.choice(\"num_rounds\", [100,250,500,1000])\n",
    "#     }\n",
    "\n",
    "# rstate = np.random.default_rng(42)\n",
    "# trials = Trials()\n",
    "# best = fmin(fn = cross_validation_mse_gradient_boosting, space = space_gradient_boosting,\n",
    "#             algo=rand.suggest, max_evals = 20, trials=trials, return_argmin=False, rstate=rstate)\n",
    "\n",
    "# print(best)\n",
    "# param = best\n",
    "# param[\"random_state\"] = 42"
   ]
  },
  {
   "cell_type": "code",
   "execution_count": null,
   "metadata": {},
   "outputs": [],
   "source": [
    "if split == \"full\":\n",
    "    param = {\"random_state\": 42, 'learning_rate': 0.01, 'max_delta_step': 1.0, 'max_depth': 9.0, 'min_child_weight': 3.0, 'num_rounds': 250, 'reg_alpha': 1.0, 'reg_lambda': 0.8}\n",
    "elif split == \"Arabidopsis\":\n",
    "    param = {\"random_state\": 42, 'learning_rate': 0.1, 'max_delta_step': 3.0, 'max_depth': 4.0, 'min_child_weight': 5.0, 'num_rounds': 500, 'reg_alpha': 0.2, 'reg_lambda': 0.4}\n",
    "# elif split == \"Brassicaceae\":\n",
    "#     param = {\"random_state\": 42, 'learning_rate': 0.1, 'max_delta_step': 2.0, 'max_depth': 3.0, 'min_child_weight': 6.0, 'num_rounds': 500.0, 'reg_alpha': 0.8, 'reg_lambda': 0.4}\n",
    "elif split == \"wildtype\":\n",
    "    param = {\"random_state\": 42, 'learning_rate': 0.01, 'max_delta_step': 1.0, 'max_depth': 9.0, 'min_child_weight': 3.0, 'num_rounds': 250, 'reg_alpha': 1.0, 'reg_lambda': 0.8}\n",
    "else:\n",
    "    param = {\"random_state\": 42, 'learning_rate': 0.01, 'max_delta_step': 2.0, 'max_depth': 4.0, 'min_child_weight': 6.0, 'num_rounds': 100, 'reg_alpha': 1.0, 'reg_lambda': 0.2}"
   ]
  },
  {
   "cell_type": "markdown",
   "metadata": {},
   "source": [
    "#### (c) Training and validating model:"
   ]
  },
  {
   "cell_type": "code",
   "execution_count": null,
   "metadata": {},
   "outputs": [],
   "source": [
    "num_round = param[\"num_rounds\"]\n",
    "param[\"max_depth\"] = int(np.round(param[\"max_depth\"]))\n",
    "param[\"tree_method\"] = \"gpu_hist\"\n",
    "param[\"sampling_method\"] = \"gradient_based\"\n",
    "del param[\"num_rounds\"]"
   ]
  },
  {
   "cell_type": "code",
   "execution_count": null,
   "metadata": {},
   "outputs": [],
   "source": [
    "R2 = []\n",
    "MSE = []\n",
    "Pearson = []\n",
    "MAE = []\n",
    "MedAE = []\n",
    "\n",
    "for i in range(5):\n",
    "    train_index, test_index  = train_indices[i], test_indices[i]\n",
    "    dtrain = xgb.DMatrix(train_X[train_index], label = train_Y[train_index])\n",
    "    dvalid = xgb.DMatrix(train_X[test_index])\n",
    "    \n",
    "    bst = xgb.train(param, dtrain, int(num_round), verbose_eval=False)\n",
    "    \n",
    "    y_valid_pred = bst.predict(dvalid)\n",
    "    MSE.append(np.sqrt(np.mean(abs(np.array([10**x for x in np.reshape(train_Y[test_index], (-1))]) - np.array([10**x for x in y_valid_pred]))**2)))\n",
    "    R2.append(r2_score([10**x for x in np.reshape(train_Y[test_index], (-1))], [10**x for x in y_valid_pred]))\n",
    "    Pearson.append(stats.pearsonr([10**x for x in np.reshape(train_Y[test_index], (-1))], [10**x for x in y_valid_pred])[0])\n",
    "    MAE.append(np.mean(abs(np.array([10**x for x in train_Y[test_index]]) - np.array([10**x for x in y_valid_pred]))))\n",
    "    MedAE.append(np.median(abs(np.array([10**x for x in train_Y[test_index]]) - np.array([10**x for x in y_valid_pred]))))\n",
    "\n",
    "print(Pearson)\n",
    "print(MSE)\n",
    "print(R2)\n",
    "print(MAE)\n",
    "print(MedAE)\n",
    "\n",
    "with open(join(results_dir, split, \"Pearson_CV_xgboost_gnn_fp.npy\"), 'wb') as f:\n",
    "    np.save(f, np.array(Pearson))\n",
    "with open(join(results_dir, split, \"MSE_CV_xgboost_gnn_fp.npy\"), 'wb') as f:\n",
    "    np.save(f, np.array(MSE))\n",
    "with open(join(results_dir, split, \"R2_CV_xgboost_gnn_fp.npy\"), 'wb') as f:\n",
    "    np.save(f, np.array(R2))"
   ]
  },
  {
   "cell_type": "code",
   "execution_count": null,
   "metadata": {},
   "outputs": [],
   "source": [
    "dtrain = xgb.DMatrix(train_X, label = train_Y)\n",
    "dtest = xgb.DMatrix(test_X, label = test_Y)\n",
    "\n",
    "bst = xgb.train(param, dtrain, int(num_round), verbose_eval=False)\n",
    "\n",
    "y_test_pred = bst.predict(dtest)\n",
    "\n",
    "data_test[\"Estimate kcat\"] = y_test_pred\n",
    "\n",
    "MSE_dif_fp_test = np.sqrt(np.mean(abs(np.array([10**x for x in test_Y]) - np.array([10**x for x in y_test_pred]))**2))\n",
    "R2_dif_fp_test = r2_score(np.array([10**x for x in test_Y]), np.array([10**x for x in y_test_pred]))\n",
    "Pearson = stats.pearsonr(np.array([10**x for x in test_Y]), np.array([10**x for x in y_test_pred]))\n",
    "MAE = np.mean(abs(np.array([10**x for x in test_Y]) - np.array([10**x for x in y_test_pred])))\n",
    "MedAE = np.median(abs(np.array([10**x for x in test_Y]) - np.array([10**x for x in y_test_pred])))\n",
    "\n",
    "print(np.round(Pearson[0],3) , np.round(MSE_dif_fp_test, 10), np.round(R2_dif_fp_test,3), np.round(MAE, 10), np.round(MedAE, 10))\n",
    "\n",
    "with open(join(results_dir, split, \"y_test_pred_xgboost_gnn_fp.npy\"), 'wb') as f:\n",
    "    np.save(f, bst.predict(dtest))\n",
    "with open(join(results_dir, split, \"y_test_true_xgboost_gnn_fp.npy\"), 'wb') as f:\n",
    "    np.save(f, test_Y)"
   ]
  },
  {
   "cell_type": "markdown",
   "metadata": {},
   "source": [
    "#### (d) Training model with test and train data for production mode:"
   ]
  },
  {
   "cell_type": "code",
   "execution_count": null,
   "metadata": {},
   "outputs": [],
   "source": [
    "train_X = np.array(list(data_train[\"GNN FP\"]))\n",
    "train_X = np.concatenate([train_X, np.array(list(data_train[\"Temperature\"]))[:, np.newaxis], np.array(list(data_train[\"pH\"]))[:, np.newaxis]], axis = 1)\n",
    "train_Y = np.array(list(data_train[\"log10_kcat\"]))\n",
    "\n",
    "test_X = np.array(list(data_test[\"GNN FP\"]))\n",
    "test_X = np.concatenate([test_X, np.array(list(data_test[\"Temperature\"]))[:, np.newaxis], np.array(list(data_test[\"pH\"]))[:, np.newaxis]], axis = 1)\n",
    "test_Y = np.array(list(data_test[\"log10_kcat\"]))\n",
    "\n",
    "train_X = np.concatenate([train_X, test_X])\n",
    "train_Y = np.concatenate([train_Y, test_Y])\n",
    "\n",
    "train_X = train_X.astype(float)\n",
    "test_X = test_X.astype(float)"
   ]
  },
  {
   "cell_type": "code",
   "execution_count": null,
   "metadata": {},
   "outputs": [],
   "source": [
    "dtrain = xgb.DMatrix(train_X, label = train_Y)\n",
    "dtest = xgb.DMatrix(test_X)\n",
    "\n",
    "bst = xgb.train(param, dtrain, int(num_round), verbose_eval=False)\n",
    "\n",
    "y_test_pred = bst.predict(dtest)\n",
    "\n",
    "MSE_dif_fp_test = np.sqrt(np.mean(abs(np.array([10**x for x in np.reshape(test_Y, (-1))]) - np.array([10**x for x in y_test_pred]))**2))\n",
    "R2_dif_fp_test = r2_score(np.array([10**x for x in np.reshape(test_Y, (-1))]), np.array([10**x for x in y_test_pred]))\n",
    "Pearson = stats.pearsonr(np.array([10**x for x in np.reshape(test_Y, (-1))]), np.array([10**x for x in y_test_pred]))\n",
    "\n",
    "print(Pearson, MSE_dif_fp_test, R2_dif_fp_test)"
   ]
  },
  {
   "metadata": {},
   "cell_type": "code",
   "outputs": [],
   "execution_count": null,
   "source": [
    "with open(join(results_dir, split, \"xgboost_gnn_fp.pkl\"), 'wb') as f:\n",
    "    pickle.dump(bst, f)"
   ]
  },
  {
   "cell_type": "markdown",
   "metadata": {},
   "source": [
    "#### (e) Validating model:"
   ]
  },
  {
   "cell_type": "code",
   "execution_count": null,
   "metadata": {},
   "outputs": [],
   "source": [
    "val_X = np.array(list(data_val[\"GNN FP\"]))\n",
    "val_X = np.concatenate([val_X, np.array(list(data_val[\"Temperature\"]))[:, np.newaxis], np.array(list(data_val[\"pH\"]))[:, np.newaxis]], axis = 1)\n",
    "val_Y = np.array(list(data_val[\"log10_kcat\"]))\n",
    "\n",
    "val_X = val_X.astype(float)\n",
    "\n",
    "dval = xgb.DMatrix(val_X)\n",
    "\n",
    "y_val_pred = bst.predict(dval)\n",
    "\n",
    "\n",
    "MSE_dif_fp_val = np.sqrt(np.mean(abs(np.array([10**x for x in np.reshape(val_Y, (-1))]) - np.array([10**x for x in y_val_pred]))**2))\n",
    "R2_dif_fp_val = r2_score(np.array([10**x for x in np.reshape(val_Y, (-1))]), np.array([10**x for x in y_val_pred]))\n",
    "Pearson = stats.pearsonr(np.array([10**x for x in np.reshape(val_Y, (-1))]), np.array([10**x for x in y_val_pred]))\n",
    "MAE = np.mean(abs(np.array([10**x for x in val_Y]) - np.array([10**x for x in y_val_pred])))\n",
    "MedAE = np.median(abs(np.array([10**x for x in val_Y]) - np.array([10**x for x in y_val_pred])))\n",
    "\n",
    "print(Pearson, MSE_dif_fp_val, R2_dif_fp_val, MAE, MedAE)\n",
    "\n",
    "with open(join(results_dir, split, \"y_test_pred_xgboost_gnn_fp.npy\"), 'wb') as f:\n",
    "    np.save(f, y_val_pred)\n",
    "with open(join(results_dir, split, \"y_test_true_xgboost_gnn_fp.npy\"), 'wb') as f:\n",
    "    np.save(f, val_Y)"
   ]
  },
  {
   "cell_type": "markdown",
   "metadata": {},
   "source": [
    "## 6. Training a model with reaction information (diff-fp) + Temperature + pH:"
   ]
  },
  {
   "cell_type": "markdown",
   "metadata": {},
   "source": [
    "#### (a) Creating input matrices:"
   ]
  },
  {
   "cell_type": "code",
   "execution_count": null,
   "metadata": {},
   "outputs": [],
   "source": [
    "train_X = np.array(list(data_train[\"difference_fp\"]))\n",
    "train_X = np.concatenate([train_X, np.array(list(data_train[\"Temperature\"]))[:, np.newaxis], np.array(list(data_train[\"pH\"]))[:, np.newaxis]], axis = 1)\n",
    "train_Y = np.array(list(data_train[\"log10_kcat\"]))\n",
    "\n",
    "test_X = np.array(list(data_test[\"difference_fp\"]))\n",
    "test_X = np.concatenate([test_X, np.array(list(data_test[\"Temperature\"]))[:, np.newaxis], np.array(list(data_test[\"pH\"]))[:, np.newaxis]], axis = 1)\n",
    "test_Y = np.array(list(data_test[\"log10_kcat\"]))\n",
    "\n",
    "train_X = train_X.astype(float)\n",
    "test_X = test_X.astype(float)"
   ]
  },
  {
   "cell_type": "markdown",
   "metadata": {},
   "source": [
    "#### (b) Hyperparameter optimization:"
   ]
  },
  {
   "cell_type": "code",
   "execution_count": null,
   "metadata": {},
   "outputs": [],
   "source": [
    "# def cross_validation_mse_gradient_boosting(param):\n",
    "#     num_round = param[\"num_rounds\"]\n",
    "#     del param[\"num_rounds\"]\n",
    "#     param[\"max_depth\"] = int(np.round(param[\"max_depth\"]))\n",
    "#     # param[\"device\"] = \"cuda\"\n",
    "#     param[\"tree_method\"] = \"gpu_hist\"\n",
    "#     param[\"sampling_method\"] = \"gradient_based\"\n",
    "    \n",
    "#     MSE = []\n",
    "#     R2 = []\n",
    "#     for i in range(5):\n",
    "#         train_index, test_index  = train_indices[i], test_indices[i]\n",
    "#         dtrain = xgb.DMatrix(train_X[train_index], label = train_Y[train_index])\n",
    "#         dvalid = xgb.DMatrix(train_X[test_index])\n",
    "#         bst = xgb.train(param, dtrain, int(num_round), verbose_eval=False)\n",
    "#         y_valid_pred = bst.predict(dvalid)\n",
    "#         MSE.append(np.mean(abs(np.reshape(train_Y[test_index], (-1)) - y_valid_pred)**2))\n",
    "#         R2.append(r2_score(np.reshape(train_Y[test_index], (-1)),  y_valid_pred))\n",
    "#     return(-np.mean(R2))\n",
    "\n",
    "# space_gradient_boosting = {\n",
    "#     \"learning_rate\": hp.choice(\"learning_rate\", [0.01,0.1,0.2]),\n",
    "#     \"max_depth\": hp.quniform(\"max_depth\", 3, 10, 1),\n",
    "#     # \"subsample\": hp.quniform(\"subsample\", 0.5, 1, 0.5),\n",
    "#     \"reg_lambda\": hp.quniform(\"reg_lambda\", 0, 1, 0.2),\n",
    "#     \"reg_alpha\": hp.quniform(\"reg_alpha\", 0, 1, 0.2),\n",
    "#     \"max_delta_step\": hp.quniform(\"max_delta_step\", 1, 5, 1),\n",
    "#     \"min_child_weight\": hp.quniform(\"min_child_weight\", 1, 6, 1),\n",
    "#     \"num_rounds\":  hp.choice(\"num_rounds\", [100,250,500,1000])\n",
    "#     }\n",
    "\n",
    "# rstate = np.random.default_rng(42)\n",
    "# trials = Trials()\n",
    "# best = fmin(fn = cross_validation_mse_gradient_boosting, space = space_gradient_boosting,\n",
    "#             algo=rand.suggest, max_evals = 20, trials=trials, return_argmin=False, rstate=rstate)\n",
    "\n",
    "# print(best)\n",
    "# param = best\n",
    "# param[\"random_state\"] = 42"
   ]
  },
  {
   "cell_type": "code",
   "execution_count": null,
   "metadata": {},
   "outputs": [],
   "source": [
    "if split == \"full\":\n",
    "    param = {\"random_state\": 42, 'learning_rate': 0.1, 'max_delta_step': 4.0, 'max_depth': 7.0, 'min_child_weight': 2.0, 'num_rounds': 100, 'reg_alpha': 0.0, 'reg_lambda': 0.2}\n",
    "elif split == \"Arabidopsis\":\n",
    "    param = {\"random_state\": 42,'learning_rate': 0.01, 'max_delta_step': 5.0, 'max_depth': 5.0, 'min_child_weight': 3.0, 'num_rounds': 1000, 'reg_alpha': 0.6, 'reg_lambda': 0.8}\n",
    "# elif split == \"Brassicaceae\":\n",
    "#     param = {\"random_state\": 42, 'learning_rate': 0.1, 'max_delta_step': 2.0, 'max_depth': 4.0, 'min_child_weight': 4.0, 'num_rounds': 750.0, 'reg_alpha': 1.0, 'reg_lambda': 1.0}\n",
    "elif split == \"wildtype\":\n",
    "    param = {\"random_state\": 42, 'learning_rate': 0.01, 'max_delta_step': 5.0, 'max_depth': 5.0, 'min_child_weight': 3.0, 'num_rounds': 1000, 'reg_alpha': 0.6, 'reg_lambda': 0.8}\n",
    "else:\n",
    "    param = {\"random_state\": 42, 'learning_rate': 0.01, 'max_delta_step': 4.0, 'max_depth': 5.0, 'min_child_weight': 3.0, 'num_rounds': 250, 'reg_alpha': 0.8, 'reg_lambda': 0.2}"
   ]
  },
  {
   "cell_type": "markdown",
   "metadata": {},
   "source": [
    "#### (c) Training and validating model:"
   ]
  },
  {
   "cell_type": "code",
   "execution_count": null,
   "metadata": {},
   "outputs": [],
   "source": [
    "num_round = param[\"num_rounds\"]\n",
    "param[\"max_depth\"] = int(np.round(param[\"max_depth\"]))\n",
    "param[\"tree_method\"] = \"gpu_hist\"\n",
    "param[\"sampling_method\"] = \"gradient_based\"\n",
    "del param[\"num_rounds\"]"
   ]
  },
  {
   "cell_type": "code",
   "execution_count": null,
   "metadata": {},
   "outputs": [],
   "source": [
    "R2 = []\n",
    "MSE = []\n",
    "Pearson = []\n",
    "MAE = []\n",
    "MedAE = []\n",
    "\n",
    "for i in range(5):\n",
    "    train_index, test_index  = train_indices[i], test_indices[i]\n",
    "    dtrain = xgb.DMatrix(train_X[train_index], label = train_Y[train_index])\n",
    "    dvalid = xgb.DMatrix(train_X[test_index])\n",
    "    \n",
    "    bst = xgb.train(param, dtrain, int(num_round), verbose_eval=False)\n",
    "    \n",
    "    y_valid_pred = bst.predict(dvalid)\n",
    "    MSE.append(np.sqrt(np.mean(abs(np.array([10**x for x in np.reshape(train_Y[test_index], (-1))]) - np.array([10**x for x in y_valid_pred]))**2)))\n",
    "    R2.append(r2_score([10**x for x in np.reshape(train_Y[test_index], (-1))], [10**x for x in y_valid_pred]))\n",
    "    Pearson.append(stats.pearsonr([10**x for x in np.reshape(train_Y[test_index], (-1))], [10**x for x in y_valid_pred])[0])\n",
    "    MAE.append(np.mean(abs(np.array([10**x for x in train_Y[test_index]]) - np.array([10**x for x in y_valid_pred]))))\n",
    "    MedAE.append(np.median(abs(np.array([10**x for x in train_Y[test_index]]) - np.array([10**x for x in y_valid_pred]))))\n",
    "\n",
    "print(Pearson)\n",
    "print(MSE)\n",
    "print(R2)\n",
    "print(MAE)\n",
    "print(MedAE)\n",
    "\n",
    "with open(join(results_dir, split, \"Pearson_CV_xgboost_diff_fp.npy\"), 'wb') as f:\n",
    "    np.save(f, np.array(Pearson))\n",
    "with open(join(results_dir, split, \"MSE_CV_xgboost_diff_fp.npy\"), 'wb') as f:\n",
    "    np.save(f, np.array(MSE))\n",
    "with open(join(results_dir, split, \"R2_CV_xgboost_diff_fp.npy\"), 'wb') as f:\n",
    "    np.save(f, np.array(R2))"
   ]
  },
  {
   "cell_type": "code",
   "execution_count": null,
   "metadata": {},
   "outputs": [],
   "source": [
    "dtrain = xgb.DMatrix(train_X, label = train_Y)\n",
    "dtest = xgb.DMatrix(test_X, label = test_Y)\n",
    "\n",
    "bst = xgb.train(param, dtrain, int(num_round), verbose_eval=False)\n",
    "\n",
    "y_test_pred = bst.predict(dtest)\n",
    "\n",
    "data_test[\"Estimate kcat\"] = y_test_pred\n",
    "\n",
    "MSE_dif_fp_test = np.sqrt(np.mean(abs(np.array([10**x for x in test_Y]) - np.array([10**x for x in y_test_pred]))**2))\n",
    "R2_dif_fp_test = r2_score(np.array([10**x for x in test_Y]), np.array([10**x for x in y_test_pred]))\n",
    "Pearson = stats.pearsonr(np.array([10**x for x in test_Y]), np.array([10**x for x in y_test_pred]))\n",
    "MAE = np.mean(abs(np.array([10**x for x in test_Y]) - np.array([10**x for x in y_test_pred])))\n",
    "MedAE = np.median(abs(np.array([10**x for x in test_Y]) - np.array([10**x for x in y_test_pred])))\n",
    "\n",
    "print(np.round(Pearson[0],3) , np.round(MSE_dif_fp_test, 10), np.round(R2_dif_fp_test,3), np.round(MAE, 10), np.round(MedAE, 10))\n",
    "\n",
    "with open(join(results_dir, split, \"y_test_pred_xgboost_diff_fp.npy\"), 'wb') as f:\n",
    "    np.save(f, bst.predict(dtest))\n",
    "with open(join(results_dir, split, \"y_test_true_xgboost_diff_fp.npy\"), 'wb') as f:\n",
    "    np.save(f, test_Y)"
   ]
  },
  {
   "cell_type": "markdown",
   "metadata": {},
   "source": [
    "#### (d) Training model with test and train data for production mode:"
   ]
  },
  {
   "cell_type": "code",
   "execution_count": null,
   "metadata": {},
   "outputs": [],
   "source": [
    "train_X = np.array(list(data_train[\"difference_fp\"]))\n",
    "train_X = np.concatenate([train_X, np.array(list(data_train[\"Temperature\"]))[:, np.newaxis], np.array(list(data_train[\"pH\"]))[:, np.newaxis]], axis = 1)\n",
    "train_Y = np.array(list(data_train[\"log10_kcat\"]))\n",
    "\n",
    "test_X = np.array(list(data_test[\"difference_fp\"]))\n",
    "test_X = np.concatenate([test_X, np.array(list(data_test[\"Temperature\"]))[:, np.newaxis], np.array(list(data_test[\"pH\"]))[:, np.newaxis]], axis = 1)\n",
    "test_Y = np.array(list(data_test[\"log10_kcat\"]))\n",
    "\n",
    "train_X = np.concatenate([train_X, test_X])\n",
    "train_Y = np.concatenate([train_Y, test_Y])\n",
    "\n",
    "train_X = train_X.astype(float)\n",
    "test_X = test_X.astype(float)"
   ]
  },
  {
   "cell_type": "code",
   "execution_count": null,
   "metadata": {},
   "outputs": [],
   "source": [
    "dtrain = xgb.DMatrix(train_X, label = train_Y)\n",
    "dtest = xgb.DMatrix(test_X)\n",
    "\n",
    "bst = xgb.train(param, dtrain, int(num_round), verbose_eval=False)\n",
    "\n",
    "y_test_pred = bst.predict(dtest)\n",
    "\n",
    "MSE_dif_fp_test = np.sqrt(np.mean(abs(np.array([10**x for x in np.reshape(test_Y, (-1))]) - np.array([10**x for x in y_test_pred]))**2))\n",
    "R2_dif_fp_test = r2_score(np.array([10**x for x in np.reshape(test_Y, (-1))]), np.array([10**x for x in y_test_pred]))\n",
    "Pearson = stats.pearsonr(np.array([10**x for x in np.reshape(test_Y, (-1))]), np.array([10**x for x in y_test_pred]))\n",
    "\n",
    "print(Pearson, MSE_dif_fp_test, R2_dif_fp_test)"
   ]
  },
  {
   "metadata": {},
   "cell_type": "code",
   "outputs": [],
   "execution_count": null,
   "source": [
    "with open(join(results_dir, split, \"xgboost_diff_fp.pkl\"), 'wb') as f:\n",
    "    pickle.dump(bst, f)"
   ]
  },
  {
   "cell_type": "markdown",
   "metadata": {},
   "source": [
    "#### (e) Validating model:"
   ]
  },
  {
   "cell_type": "code",
   "execution_count": null,
   "metadata": {},
   "outputs": [],
   "source": [
    "val_X = np.array(list(data_val[\"difference_fp\"]))\n",
    "val_X = np.concatenate([val_X, np.array(list(data_val[\"Temperature\"]))[:, np.newaxis], np.array(list(data_val[\"pH\"]))[:, np.newaxis]], axis = 1)\n",
    "val_Y = np.array(list(data_val[\"log10_kcat\"]))\n",
    "\n",
    "val_X = val_X.astype(float)\n",
    "\n",
    "dval = xgb.DMatrix(val_X)\n",
    "\n",
    "y_val_pred = bst.predict(dval)\n",
    "\n",
    "\n",
    "MSE_dif_fp_val = np.sqrt(np.mean(abs(np.array([10**x for x in np.reshape(val_Y, (-1))]) - np.array([10**x for x in y_val_pred]))**2))\n",
    "R2_dif_fp_val = r2_score(np.array([10**x for x in np.reshape(val_Y, (-1))]), np.array([10**x for x in y_val_pred]))\n",
    "Pearson = stats.pearsonr(np.array([10**x for x in np.reshape(val_Y, (-1))]), np.array([10**x for x in y_val_pred]))\n",
    "MAE = np.mean(abs(np.array([10**x for x in val_Y]) - np.array([10**x for x in y_val_pred])))\n",
    "MedAE = np.median(abs(np.array([10**x for x in val_Y]) - np.array([10**x for x in y_val_pred])))\n",
    "\n",
    "print(Pearson, MSE_dif_fp_val, R2_dif_fp_val, MAE, MedAE)\n",
    "\n",
    "with open(join(results_dir, split, \"y_test_pred_xgboost_diff_fp.npy\"), 'wb') as f:\n",
    "    np.save(f, y_val_pred)\n",
    "with open(join(results_dir, split, \"y_test_true_xgboost_diff_fp.npy\"), 'wb') as f:\n",
    "    np.save(f, val_Y)"
   ]
  },
  {
   "cell_type": "markdown",
   "metadata": {},
   "source": [
    "## 7. Training a model with reaction and main substrate information (diff-fp/GNN) + Temperature + pH:"
   ]
  },
  {
   "cell_type": "markdown",
   "metadata": {},
   "source": [
    "#### (a) Creating input matrices:"
   ]
  },
  {
   "cell_type": "code",
   "execution_count": null,
   "metadata": {},
   "outputs": [],
   "source": [
    "train_X = np.array(list(data_train[\"difference_fp\"]))\n",
    "train_X = np.concatenate([train_X, np.array(list(data_train[\"GNN FP\"])), np.array(list(data_train[\"Temperature\"]))[:, np.newaxis], np.array(list(data_train[\"pH\"]))[:, np.newaxis]], axis = 1)\n",
    "train_Y = np.array(list(data_train[\"log10_kcat\"]))\n",
    "\n",
    "test_X = np.array(list(data_test[\"difference_fp\"]))\n",
    "test_X = np.concatenate([test_X, np.array(list(data_test[\"GNN FP\"])), np.array(list(data_test[\"Temperature\"]))[:, np.newaxis], np.array(list(data_test[\"pH\"]))[:, np.newaxis]], axis = 1)\n",
    "test_Y = np.array(list(data_test[\"log10_kcat\"]))\n",
    "\n",
    "train_X = train_X.astype(float)\n",
    "test_X = test_X.astype(float)"
   ]
  },
  {
   "cell_type": "markdown",
   "metadata": {},
   "source": [
    "#### (b) Hyperparameter optimization:"
   ]
  },
  {
   "cell_type": "code",
   "execution_count": null,
   "metadata": {},
   "outputs": [],
   "source": [
    "# def cross_validation_mse_gradient_boosting(param):\n",
    "#     num_round = param[\"num_rounds\"]\n",
    "#     del param[\"num_rounds\"]\n",
    "#     param[\"max_depth\"] = int(np.round(param[\"max_depth\"]))\n",
    "#     # param[\"device\"] = \"cuda\"\n",
    "#     param[\"tree_method\"] = \"gpu_hist\"\n",
    "#     param[\"sampling_method\"] = \"gradient_based\"\n",
    "    \n",
    "#     MSE = []\n",
    "#     R2 = []\n",
    "#     for i in range(5):\n",
    "#         train_index, test_index  = train_indices[i], test_indices[i]\n",
    "#         dtrain = xgb.DMatrix(train_X[train_index], label = train_Y[train_index])\n",
    "#         dvalid = xgb.DMatrix(train_X[test_index])\n",
    "#         bst = xgb.train(param, dtrain, int(num_round), verbose_eval=False)\n",
    "#         y_valid_pred = bst.predict(dvalid)\n",
    "#         MSE.append(np.mean(abs(np.reshape(train_Y[test_index], (-1)) - y_valid_pred)**2))\n",
    "#         R2.append(r2_score(np.reshape(train_Y[test_index], (-1)),  y_valid_pred))\n",
    "#     return(-np.mean(R2))\n",
    "\n",
    "# space_gradient_boosting = {\n",
    "#     \"learning_rate\": hp.choice(\"learning_rate\", [0.01,0.1,0.2]),\n",
    "#     \"max_depth\": hp.quniform(\"max_depth\", 3, 10, 1),\n",
    "#     # \"subsample\": hp.quniform(\"subsample\", 0.5, 1, 0.5),\n",
    "#     \"reg_lambda\": hp.quniform(\"reg_lambda\", 0, 1, 0.2),\n",
    "#     \"reg_alpha\": hp.quniform(\"reg_alpha\", 0, 1, 0.2),\n",
    "#     \"max_delta_step\": hp.quniform(\"max_delta_step\", 1, 5, 1),\n",
    "#     \"min_child_weight\": hp.quniform(\"min_child_weight\", 1, 6, 1),\n",
    "#     \"num_rounds\":  hp.choice(\"num_rounds\", [100,250,500,1000])\n",
    "#     }\n",
    "\n",
    "# rstate = np.random.default_rng(42)\n",
    "# trials = Trials()\n",
    "# best = fmin(fn = cross_validation_mse_gradient_boosting, space = space_gradient_boosting,\n",
    "#             algo=rand.suggest, max_evals = 20, trials=trials, return_argmin=False, rstate=rstate)\n",
    "\n",
    "# print(best)\n",
    "# param = best\n",
    "# param[\"random_state\"] = 42"
   ]
  },
  {
   "cell_type": "code",
   "execution_count": null,
   "metadata": {},
   "outputs": [],
   "source": [
    "if split == \"full\":\n",
    "    param = {\"random_state\": 42, 'learning_rate': 0.01, 'max_delta_step': 2.0, 'max_depth': 8.0, 'min_child_weight': 5.0, 'num_rounds': 500, 'reg_alpha': 0.4, 'reg_lambda': 0.0}\n",
    "elif split == \"Arabidopsis\":\n",
    "    param = {\"random_state\": 42, 'learning_rate': 0.01, 'max_delta_step': 5.0, 'max_depth': 5.0, 'min_child_weight': 3.0, 'num_rounds': 1000, 'reg_alpha': 0.6, 'reg_lambda': 0.8}\n",
    "# elif split == \"Brassicaceae\":\n",
    "#     param = {\"random_state\": 42, 'learning_rate': 0.2, 'max_delta_step': 3.0, 'max_depth': 4.0, 'min_child_weight': 4.0, 'num_rounds': 250.0, 'reg_alpha': 0.8, 'reg_lambda': 0.4}\n",
    "elif split == \"wildtype\":\n",
    "    param = {\"random_state\": 42, 'learning_rate': 0.01, 'max_delta_step': 5.0, 'max_depth': 5.0, 'min_child_weight': 3.0, 'num_rounds': 1000, 'reg_alpha': 0.6, 'reg_lambda': 0.8}\n",
    "else:\n",
    "    param = {\"random_state\": 42, 'learning_rate': 0.01, 'max_delta_step': 1.0, 'max_depth': 9.0, 'min_child_weight': 3.0, 'num_rounds': 250, 'reg_alpha': 1.0, 'reg_lambda': 0.8}"
   ]
  },
  {
   "cell_type": "markdown",
   "metadata": {},
   "source": [
    "#### (c) Training and validating model:"
   ]
  },
  {
   "cell_type": "code",
   "execution_count": null,
   "metadata": {},
   "outputs": [],
   "source": [
    "num_round = param[\"num_rounds\"]\n",
    "param[\"max_depth\"] = int(np.round(param[\"max_depth\"]))\n",
    "param[\"tree_method\"] = \"gpu_hist\"\n",
    "param[\"sampling_method\"] = \"gradient_based\"\n",
    "del param[\"num_rounds\"]"
   ]
  },
  {
   "cell_type": "code",
   "execution_count": null,
   "metadata": {},
   "outputs": [],
   "source": [
    "R2 = []\n",
    "MSE = []\n",
    "Pearson = []\n",
    "MAE = []\n",
    "MedAE = []\n",
    "\n",
    "for i in range(5):\n",
    "    train_index, test_index  = train_indices[i], test_indices[i]\n",
    "    dtrain = xgb.DMatrix(train_X[train_index], label = train_Y[train_index])\n",
    "    dvalid = xgb.DMatrix(train_X[test_index])\n",
    "    \n",
    "    bst = xgb.train(param, dtrain, int(num_round), verbose_eval=False)\n",
    "    \n",
    "    y_valid_pred = bst.predict(dvalid)\n",
    "    MSE.append(np.sqrt(np.mean(abs(np.array([10**x for x in np.reshape(train_Y[test_index], (-1))]) - np.array([10**x for x in y_valid_pred]))**2)))\n",
    "    R2.append(r2_score([10**x for x in np.reshape(train_Y[test_index], (-1))], [10**x for x in y_valid_pred]))\n",
    "    Pearson.append(stats.pearsonr([10**x for x in np.reshape(train_Y[test_index], (-1))], [10**x for x in y_valid_pred])[0])\n",
    "    MAE.append(np.mean(abs(np.array([10**x for x in train_Y[test_index]]) - np.array([10**x for x in y_valid_pred]))))\n",
    "    MedAE.append(np.median(abs(np.array([10**x for x in train_Y[test_index]]) - np.array([10**x for x in y_valid_pred]))))\n",
    "\n",
    "print(Pearson)\n",
    "print(MSE)\n",
    "print(R2)\n",
    "print(MAE)\n",
    "print(MedAE)\n",
    "\n",
    "with open(join(results_dir, split, \"Pearson_CV_xgboost_gnn_fp_diff_fp.npy\"), 'wb') as f:\n",
    "    np.save(f, np.array(Pearson))\n",
    "with open(join(results_dir, split, \"MSE_CV_xgboost_gnn_fp_diff_fp.npy\"), 'wb') as f:\n",
    "    np.save(f, np.array(MSE))\n",
    "with open(join(results_dir, split, \"R2_CV_xgboost_gnn_fp_diff_fp.npy\"), 'wb') as f:\n",
    "    np.save(f, np.array(R2))"
   ]
  },
  {
   "cell_type": "code",
   "execution_count": null,
   "metadata": {},
   "outputs": [],
   "source": [
    "dtrain = xgb.DMatrix(train_X, label = train_Y)\n",
    "dtest = xgb.DMatrix(test_X, label = test_Y)\n",
    "\n",
    "bst = xgb.train(param, dtrain, int(num_round), verbose_eval=False)\n",
    "\n",
    "y_test_pred = bst.predict(dtest)\n",
    "\n",
    "data_test[\"Estimate kcat\"] = y_test_pred\n",
    "\n",
    "MSE_dif_fp_test = np.sqrt(np.mean(abs(np.array([10**x for x in test_Y]) - np.array([10**x for x in y_test_pred]))**2))\n",
    "R2_dif_fp_test = r2_score(np.array([10**x for x in test_Y]), np.array([10**x for x in y_test_pred]))\n",
    "Pearson = stats.pearsonr(np.array([10**x for x in test_Y]), np.array([10**x for x in y_test_pred]))\n",
    "MAE = np.mean(abs(np.array([10**x for x in test_Y]) - np.array([10**x for x in y_test_pred])))\n",
    "MedAE = np.median(abs(np.array([10**x for x in test_Y]) - np.array([10**x for x in y_test_pred])))\n",
    "\n",
    "print(np.round(Pearson[0],3) , np.round(MSE_dif_fp_test, 10), np.round(R2_dif_fp_test,3), np.round(MAE, 10), np.round(MedAE, 10))\n",
    "\n",
    "with open(join(results_dir, split, \"y_test_pred_xgboost_gnn_fp_diff_fp.npy\"), 'wb') as f:\n",
    "    np.save(f, bst.predict(dtest))\n",
    "with open(join(results_dir, split, \"y_test_true_xgboost_gnn_fp_diff_fp.npy\"), 'wb') as f:\n",
    "    np.save(f, test_Y)"
   ]
  },
  {
   "cell_type": "markdown",
   "metadata": {},
   "source": [
    "#### (d) Training model with test and train data for production mode:"
   ]
  },
  {
   "cell_type": "code",
   "execution_count": null,
   "metadata": {},
   "outputs": [],
   "source": [
    "train_X = np.array(list(data_train[\"difference_fp\"]))\n",
    "train_X = np.concatenate([train_X, np.array(list(data_train[\"GNN FP\"])), np.array(list(data_train[\"Temperature\"]))[:, np.newaxis], np.array(list(data_train[\"pH\"]))[:, np.newaxis]], axis = 1)\n",
    "train_Y = np.array(list(data_train[\"log10_kcat\"]))\n",
    "\n",
    "test_X = np.array(list(data_test[\"difference_fp\"]))\n",
    "test_X = np.concatenate([test_X,  np.array(list(data_test[\"GNN FP\"])), np.array(list(data_test[\"Temperature\"]))[:, np.newaxis], np.array(list(data_test[\"pH\"]))[:, np.newaxis]], axis = 1)\n",
    "test_Y = np.array(list(data_test[\"log10_kcat\"]))\n",
    "\n",
    "train_X = np.concatenate([train_X, test_X])\n",
    "train_Y = np.concatenate([train_Y, test_Y])\n",
    "\n",
    "train_X = train_X.astype(float)\n",
    "test_X = test_X.astype(float)"
   ]
  },
  {
   "cell_type": "code",
   "execution_count": null,
   "metadata": {},
   "outputs": [],
   "source": [
    "dtrain = xgb.DMatrix(train_X, label = train_Y)\n",
    "dtest = xgb.DMatrix(test_X)\n",
    "\n",
    "bst = xgb.train(param, dtrain, int(num_round), verbose_eval=False)\n",
    "\n",
    "y_test_pred = bst.predict(dtest)\n",
    "\n",
    "MSE_dif_fp_test = np.sqrt(np.mean(abs(np.array([10**x for x in np.reshape(test_Y, (-1))]) - np.array([10**x for x in y_test_pred]))**2))\n",
    "R2_dif_fp_test = r2_score(np.array([10**x for x in np.reshape(test_Y, (-1))]), np.array([10**x for x in y_test_pred]))\n",
    "Pearson = stats.pearsonr(np.array([10**x for x in np.reshape(test_Y, (-1))]), np.array([10**x for x in y_test_pred]))\n",
    "\n",
    "print(Pearson, MSE_dif_fp_test, R2_dif_fp_test)"
   ]
  },
  {
   "metadata": {},
   "cell_type": "code",
   "outputs": [],
   "execution_count": null,
   "source": [
    "with open(join(results_dir, split, \"xgboost_gnn_fp_diff_fp.pkl\"), 'wb') as f:\n",
    "    pickle.dump(bst, f)"
   ]
  },
  {
   "cell_type": "markdown",
   "metadata": {},
   "source": [
    "#### (e) Validating model:"
   ]
  },
  {
   "cell_type": "code",
   "execution_count": null,
   "metadata": {},
   "outputs": [],
   "source": [
    "val_X = np.array(list(data_val[\"difference_fp\"]))\n",
    "val_X = np.concatenate([val_X,  np.array(list(data_val[\"GNN FP\"])), np.array(list(data_val[\"Temperature\"]))[:, np.newaxis], np.array(list(data_val[\"pH\"]))[:, np.newaxis]], axis = 1)\n",
    "val_Y = np.array(list(data_val[\"log10_kcat\"]))\n",
    "\n",
    "val_X = val_X.astype(float)\n",
    "\n",
    "dval = xgb.DMatrix(val_X)\n",
    "\n",
    "y_val_pred = bst.predict(dval)\n",
    "\n",
    "MSE_dif_fp_val = np.sqrt(np.mean(abs(np.array([10**x for x in np.reshape(val_Y, (-1))]) - np.array([10**x for x in y_val_pred]))**2))\n",
    "R2_dif_fp_val = r2_score(np.array([10**x for x in np.reshape(val_Y, (-1))]), np.array([10**x for x in y_val_pred]))\n",
    "Pearson = stats.pearsonr(np.array([10**x for x in np.reshape(val_Y, (-1))]), np.array([10**x for x in y_val_pred]))\n",
    "MAE = np.mean(abs(np.array([10**x for x in val_Y]) - np.array([10**x for x in y_val_pred])))\n",
    "MedAE = np.median(abs(np.array([10**x for x in val_Y]) - np.array([10**x for x in y_val_pred])))\n",
    "\n",
    "print(Pearson, MSE_dif_fp_val, R2_dif_fp_val, MAE, MedAE)\n",
    "\n",
    "with open(join(results_dir, split, \"y_test_pred_xgboost_diff_fp_gnn_fp.npy\"), 'wb') as f:\n",
    "    np.save(f, y_val_pred)\n",
    "with open(join(results_dir, split, \"y_test_true_xgboost_diff_fp_gnn_fp.npy\"), 'wb') as f:\n",
    "    np.save(f, val_Y)"
   ]
  }
 ],
 "metadata": {
  "kernelspec": {
   "display_name": "py37",
   "language": "python",
   "name": "python3"
  },
  "language_info": {
   "codemirror_mode": {
    "name": "ipython",
    "version": 3
   },
   "file_extension": ".py",
   "mimetype": "text/x-python",
   "name": "python",
   "nbconvert_exporter": "python",
   "pygments_lexer": "ipython3",
   "version": "3.7.12"
  }
 },
 "nbformat": 4,
 "nbformat_minor": 2
}
